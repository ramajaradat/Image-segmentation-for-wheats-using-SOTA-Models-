{
 "cells": [
  {
   "cell_type": "markdown",
   "id": "ca722d3f",
   "metadata": {},
   "source": [
    "\n",
    "## Image segmentation for wheats using SOTA Models\n",
    "Dataset link: https://www.kaggle.com/competitions/global-wheat-detection/data\n",
    "\n",
    "\n",
    "\n",
    "\n"
   ]
  },
  {
   "cell_type": "markdown",
   "id": "c4d6c825",
   "metadata": {},
   "source": [
    "\n",
    "## Objectives\n",
    "   - Develop an image segmentation vision app using SOTA models\n",
    "   - Evaluate multiple SOTA models: Yolov8-seg, SAM model, U-Net\n",
    "   - Compare and analyze the performance of each model\n",
    "   - Use onnxruntime to accelerate inference time\n",
    "   \n",
    "\n"
   ]
  },
  {
   "cell_type": "markdown",
   "id": "4921f7af",
   "metadata": {},
   "source": [
    "#  Annotation\n",
    "- Use only CVAT (https://www.cvat.ai/) to annotate the train images."
   ]
  },
  {
   "cell_type": "markdown",
   "id": "ef03a13b",
   "metadata": {},
   "source": [
    "#  Modelling\n",
    "   "
   ]
  },
  {
   "cell_type": "markdown",
   "id": "8eeeaeb6",
   "metadata": {},
   "source": [
    "#### For each model \n",
    "    - Yolov8-seg\n",
    "    - SAM model \n",
    "    - U-Net\n",
    "\n",
    "\n",
    "Follow the steps outlined below:\n",
    "\n",
    "#### - Architecture Overview\n",
    "\n",
    "#### - Fine-Tuned Approach\n",
    "\n",
    "#### - Learning Curve and Performance Metrics:\n",
    "- Showcase the learning curve during training.\n",
    "- Present key performance metric such as mAP (box) & mAP(mask).\n",
    "\n",
    "  "
   ]
  },
  {
   "cell_type": "markdown",
   "id": "e79de5b8",
   "metadata": {},
   "source": [
    "### Results and Discussion\n",
    "\n",
    "After completing the table, write a brief summary or conclusion discussing any insights or observations regarding the performance of different SOTA models."
   ]
  },
  {
   "cell_type": "markdown",
   "id": "0bfd66ce",
   "metadata": {},
   "source": [
    "| Model                 | size | mAP(Box) | mAP(Mask)  | Speed(ONNX) ms |\n",
    "|-----------------------|----------|-----------|----------|----------|\n",
    "| Yolov8-seg          |       |        |      |\n",
    "| SAM model              |       |       |       |\n",
    "| U-Net             |      |        |       |\n",
    "\n",
    "\n"
   ]
  },
  {
   "cell_type": "markdown",
   "id": "14d6a01e",
   "metadata": {},
   "source": [
    "Good Luck !!"
   ]
  }
 ],
 "metadata": {
  "kernelspec": {
   "display_name": "Python 3 (ipykernel)",
   "language": "python",
   "name": "python3"
  },
  "language_info": {
   "codemirror_mode": {
    "name": "ipython",
    "version": 3
   },
   "file_extension": ".py",
   "mimetype": "text/x-python",
   "name": "python",
   "nbconvert_exporter": "python",
   "pygments_lexer": "ipython3",
   "version": "3.10.9"
  }
 },
 "nbformat": 4,
 "nbformat_minor": 5
}
