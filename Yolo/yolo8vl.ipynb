{
  "cells": [
    {
      "cell_type": "code",
      "execution_count": null,
      "metadata": {
        "colab": {
          "base_uri": "https://localhost:8080/"
        },
        "id": "45mdRnFEg2Eb",
        "outputId": "a6100d5e-0e28-4c10-e838-591548ecbef0"
      },
      "outputs": [
        {
          "output_type": "stream",
          "name": "stdout",
          "text": [
            "Mounted at /content/drive\n"
          ]
        }
      ],
      "source": [
        "from google.colab import drive\n",
        "drive.mount('/content/drive')"
      ]
    },
    {
      "cell_type": "markdown",
      "source": [
        "# Library"
      ],
      "metadata": {
        "id": "5ClxIr7hFDqB"
      }
    },
    {
      "cell_type": "code",
      "execution_count": null,
      "metadata": {
        "id": "pvX7DeySWrMx"
      },
      "outputs": [],
      "source": [
        "!nvidia-smi\n",
        "!pip install ultralytics==8.0.196\n",
        "from IPython import display\n",
        "display.clear_output()\n",
        "import ultralytics\n",
        "ultralytics.checks()\n",
        "from ultralytics import YOLO\n",
        "from IPython.display import display, Image"
      ]
    },
    {
      "cell_type": "code",
      "execution_count": null,
      "metadata": {
        "colab": {
          "base_uri": "https://localhost:8080/"
        },
        "id": "uAxhFMA075G-",
        "outputId": "9dd93bb3-d53d-400b-918b-e81c1d180ac8"
      },
      "outputs": [
        {
          "output_type": "stream",
          "name": "stdout",
          "text": [
            "/content/drive/MyDrive/Wheat head Segmentation Project/Yolo8/YOLOv8l-seg\n"
          ]
        }
      ],
      "source": [
        "%cd '/content/drive/MyDrive/Wheat head Segmentation Project/Yolo8/YOLOv8l-seg'"
      ]
    },
    {
      "cell_type": "markdown",
      "source": [
        "# Model train"
      ],
      "metadata": {
        "id": "Kwf2T87tYjfu"
      }
    },
    {
      "cell_type": "code",
      "execution_count": null,
      "metadata": {
        "colab": {
          "base_uri": "https://localhost:8080/"
        },
        "id": "ys2D3i46ydlB",
        "outputId": "2df4fc80-97f4-4c54-b3c9-a2a14a4f4105"
      },
      "outputs": [
        {
          "output_type": "stream",
          "name": "stdout",
          "text": [
            "WARNING ⚠️ /content/drive/MyDrive/Wheat head Segmentation Project/Yolo8/YOLOv8l-seg/runs/segment/train2/weights/last.pt appears to require 'dill', which is not in ultralytics requirements.\n",
            "AutoInstall will run now for 'dill' but this feature will be removed in the future.\n",
            "Recommend fixes are to train a new model using the latest 'ultralytics' package or to run a command with an official YOLOv8 model, i.e. 'yolo predict model=yolov8n.pt'\n",
            "\u001b[31m\u001b[1mrequirements:\u001b[0m Ultralytics requirement ['dill'] not found, attempting AutoUpdate...\n",
            "Collecting dill\n",
            "  Downloading dill-0.3.8-py3-none-any.whl (116 kB)\n",
            "     ━━━━━━━━━━━━━━━━━━━━━━━━━━━━━━━━━━━━━━━━ 116.3/116.3 kB 3.3 MB/s eta 0:00:00\n",
            "Installing collected packages: dill\n",
            "Successfully installed dill-0.3.8\n",
            "\n",
            "\u001b[31m\u001b[1mrequirements:\u001b[0m AutoUpdate success ✅ 4.8s, installed 1 package: ['dill']\n",
            "\u001b[31m\u001b[1mrequirements:\u001b[0m ⚠️ \u001b[1mRestart runtime or rerun command for updates to take effect\u001b[0m\n",
            "\n",
            "Ultralytics YOLOv8.1.22 🚀 Python-3.10.12 torch-2.1.0+cu121 CUDA:0 (Tesla T4, 15102MiB)\n",
            "\u001b[34m\u001b[1mengine/trainer: \u001b[0mtask=segment, mode=train, model=/content/drive/MyDrive/Wheat head Segmentation Project/Yolo8/YOLOv8l-seg/runs/segment/train2/weights/last.pt, data=/content/drive/MyDrive/Wheat head Segmentation Project/Yolo8/Segmentation.yolov8/data_yolo8.yaml, epochs=1, time=None, patience=100, batch=8, imgsz=640, save=True, save_period=-1, cache=False, device=None, workers=1, project=None, name=train3, exist_ok=False, pretrained=True, optimizer=auto, verbose=True, seed=0, deterministic=True, single_cls=False, rect=False, cos_lr=False, close_mosaic=10, resume=False, amp=True, fraction=1.0, profile=False, freeze=None, multi_scale=False, overlap_mask=True, mask_ratio=4, dropout=0.0, val=True, split=val, save_json=False, save_hybrid=False, conf=None, iou=0.7, max_det=300, half=False, dnn=False, plots=True, source=None, vid_stride=1, stream_buffer=False, visualize=False, augment=False, agnostic_nms=False, classes=None, retina_masks=False, embed=None, show=False, save_frames=False, save_txt=False, save_conf=False, save_crop=False, show_labels=True, show_conf=True, show_boxes=True, line_width=None, format=torchscript, keras=False, optimize=False, int8=False, dynamic=False, simplify=False, opset=None, workspace=4, nms=False, lr0=0.01, lrf=0.01, momentum=0.937, weight_decay=0.0005, warmup_epochs=3.0, warmup_momentum=0.8, warmup_bias_lr=0.1, box=7.5, cls=0.5, dfl=1.5, pose=12.0, kobj=1.0, label_smoothing=0.0, nbs=64, hsv_h=0.015, hsv_s=0.7, hsv_v=0.4, degrees=0.0, translate=0.1, scale=0.5, shear=0.0, perspective=0.0, flipud=0.0, fliplr=0.5, mosaic=1.0, mixup=0.0, copy_paste=0.0, auto_augment=randaugment, erasing=0.4, crop_fraction=1.0, cfg=None, tracker=botsort.yaml, save_dir=runs/segment/train3\n",
            "Downloading https://ultralytics.com/assets/Arial.ttf to '/root/.config/Ultralytics/Arial.ttf'...\n"
          ]
        },
        {
          "output_type": "stream",
          "name": "stderr",
          "text": [
            "100%|██████████| 755k/755k [00:00<00:00, 132MB/s]\n"
          ]
        },
        {
          "output_type": "stream",
          "name": "stdout",
          "text": [
            "\n",
            "                   from  n    params  module                                       arguments                     \n",
            "  0                  -1  1      1856  ultralytics.nn.modules.conv.Conv             [3, 64, 3, 2]                 \n",
            "  1                  -1  1     73984  ultralytics.nn.modules.conv.Conv             [64, 128, 3, 2]               \n",
            "  2                  -1  3    279808  ultralytics.nn.modules.block.C2f             [128, 128, 3, True]           \n",
            "  3                  -1  1    295424  ultralytics.nn.modules.conv.Conv             [128, 256, 3, 2]              \n",
            "  4                  -1  6   2101248  ultralytics.nn.modules.block.C2f             [256, 256, 6, True]           \n",
            "  5                  -1  1   1180672  ultralytics.nn.modules.conv.Conv             [256, 512, 3, 2]              \n",
            "  6                  -1  6   8396800  ultralytics.nn.modules.block.C2f             [512, 512, 6, True]           \n",
            "  7                  -1  1   2360320  ultralytics.nn.modules.conv.Conv             [512, 512, 3, 2]              \n",
            "  8                  -1  3   4461568  ultralytics.nn.modules.block.C2f             [512, 512, 3, True]           \n",
            "  9                  -1  1    656896  ultralytics.nn.modules.block.SPPF            [512, 512, 5]                 \n",
            " 10                  -1  1         0  torch.nn.modules.upsampling.Upsample         [None, 2, 'nearest']          \n",
            " 11             [-1, 6]  1         0  ultralytics.nn.modules.conv.Concat           [1]                           \n",
            " 12                  -1  3   4723712  ultralytics.nn.modules.block.C2f             [1024, 512, 3]                \n",
            " 13                  -1  1         0  torch.nn.modules.upsampling.Upsample         [None, 2, 'nearest']          \n",
            " 14             [-1, 4]  1         0  ultralytics.nn.modules.conv.Concat           [1]                           \n",
            " 15                  -1  3   1247744  ultralytics.nn.modules.block.C2f             [768, 256, 3]                 \n",
            " 16                  -1  1    590336  ultralytics.nn.modules.conv.Conv             [256, 256, 3, 2]              \n",
            " 17            [-1, 12]  1         0  ultralytics.nn.modules.conv.Concat           [1]                           \n",
            " 18                  -1  3   4592640  ultralytics.nn.modules.block.C2f             [768, 512, 3]                 \n",
            " 19                  -1  1   2360320  ultralytics.nn.modules.conv.Conv             [512, 512, 3, 2]              \n",
            " 20             [-1, 9]  1         0  ultralytics.nn.modules.conv.Concat           [1]                           \n",
            " 21                  -1  3   4723712  ultralytics.nn.modules.block.C2f             [1024, 512, 3]                \n",
            " 22        [15, 18, 21]  1   7889779  ultralytics.nn.modules.head.Segment          [1, 32, 256, [256, 512, 512]] \n",
            "YOLOv8l-seg summary: 401 layers, 45936819 parameters, 45936803 gradients, 220.8 GFLOPs\n",
            "\n",
            "Transferred 657/657 items from pretrained weights\n",
            "\u001b[34m\u001b[1mTensorBoard: \u001b[0mStart with 'tensorboard --logdir runs/segment/train3', view at http://localhost:6006/\n",
            "Freezing layer 'model.22.dfl.conv.weight'\n",
            "\u001b[34m\u001b[1mAMP: \u001b[0mrunning Automatic Mixed Precision (AMP) checks with YOLOv8n...\n",
            "\u001b[34m\u001b[1mAMP: \u001b[0mchecks passed ✅\n"
          ]
        },
        {
          "output_type": "stream",
          "name": "stderr",
          "text": [
            "\u001b[34m\u001b[1mtrain: \u001b[0mScanning /content/drive/MyDrive/Wheat head Segmentation Project/Yolo8/Segmentation.yolov8/train/labels... 2703 images, 0 backgrounds, 0 corrupt: 100%|██████████| 2703/2703 [40:42<00:00,  1.11it/s]"
          ]
        },
        {
          "output_type": "stream",
          "name": "stdout",
          "text": [
            "\u001b[34m\u001b[1mtrain: \u001b[0mWARNING ⚠️ /content/drive/MyDrive/Wheat head Segmentation Project/Yolo8/Segmentation.yolov8/train/images/010c93b99_jpg.rf.3b17c19079367983ea6e62e18135a9b5.jpg: 1 duplicate labels removed\n",
            "\u001b[34m\u001b[1mtrain: \u001b[0mWARNING ⚠️ /content/drive/MyDrive/Wheat head Segmentation Project/Yolo8/Segmentation.yolov8/train/images/060c572e4_jpg.rf.1260f007a85b7d20a4693e646d33d438.jpg: 1 duplicate labels removed\n",
            "\u001b[34m\u001b[1mtrain: \u001b[0mWARNING ⚠️ /content/drive/MyDrive/Wheat head Segmentation Project/Yolo8/Segmentation.yolov8/train/images/1c5f25cd1_jpg.rf.7c46166df743ee271734757a8574ef03.jpg: 1 duplicate labels removed\n",
            "\u001b[34m\u001b[1mtrain: \u001b[0mWARNING ⚠️ /content/drive/MyDrive/Wheat head Segmentation Project/Yolo8/Segmentation.yolov8/train/images/2474376a6_jpg.rf.af2be5e32ad89de40a647cc99d0bf7fd.jpg: 1 duplicate labels removed\n",
            "\u001b[34m\u001b[1mtrain: \u001b[0mWARNING ⚠️ /content/drive/MyDrive/Wheat head Segmentation Project/Yolo8/Segmentation.yolov8/train/images/2d1b6ce2a_jpg.rf.4f95b6f748d7b520d5ca544f04e57b03.jpg: 1 duplicate labels removed\n",
            "\u001b[34m\u001b[1mtrain: \u001b[0mWARNING ⚠️ /content/drive/MyDrive/Wheat head Segmentation Project/Yolo8/Segmentation.yolov8/train/images/305bf8b23_jpg.rf.8494f5d046e5066be78aa0268e085606.jpg: 1 duplicate labels removed\n",
            "\u001b[34m\u001b[1mtrain: \u001b[0mWARNING ⚠️ /content/drive/MyDrive/Wheat head Segmentation Project/Yolo8/Segmentation.yolov8/train/images/311498261_jpg.rf.0e83c7ccc8f727617cbcfe21a5d81029.jpg: 1 duplicate labels removed\n",
            "\u001b[34m\u001b[1mtrain: \u001b[0mWARNING ⚠️ /content/drive/MyDrive/Wheat head Segmentation Project/Yolo8/Segmentation.yolov8/train/images/333d4affe_jpg.rf.b6fea7f41eb300d5aa976e59ccb972b6.jpg: 1 duplicate labels removed\n",
            "\u001b[34m\u001b[1mtrain: \u001b[0mWARNING ⚠️ /content/drive/MyDrive/Wheat head Segmentation Project/Yolo8/Segmentation.yolov8/train/images/3843b28ec_jpg.rf.45583b2fe802d67a8760ddb634e61264.jpg: 1 duplicate labels removed\n",
            "\u001b[34m\u001b[1mtrain: \u001b[0mWARNING ⚠️ /content/drive/MyDrive/Wheat head Segmentation Project/Yolo8/Segmentation.yolov8/train/images/39614e195_jpg.rf.940d426fa4df82c141a18a5e6c41de6f.jpg: 1 duplicate labels removed\n",
            "\u001b[34m\u001b[1mtrain: \u001b[0mWARNING ⚠️ /content/drive/MyDrive/Wheat head Segmentation Project/Yolo8/Segmentation.yolov8/train/images/3f2eddbe8_jpg.rf.b1b95a0a299d1613888e6d16bbb097f4.jpg: 1 duplicate labels removed\n",
            "\u001b[34m\u001b[1mtrain: \u001b[0mWARNING ⚠️ /content/drive/MyDrive/Wheat head Segmentation Project/Yolo8/Segmentation.yolov8/train/images/40d727f36_jpg.rf.abb87316e32c7fde283049f575d609a1.jpg: 1 duplicate labels removed\n",
            "\u001b[34m\u001b[1mtrain: \u001b[0mWARNING ⚠️ /content/drive/MyDrive/Wheat head Segmentation Project/Yolo8/Segmentation.yolov8/train/images/42cc125bc_jpg.rf.83b2e8a9ff7f26f5602da2924cd351aa.jpg: 1 duplicate labels removed\n",
            "\u001b[34m\u001b[1mtrain: \u001b[0mWARNING ⚠️ /content/drive/MyDrive/Wheat head Segmentation Project/Yolo8/Segmentation.yolov8/train/images/46e480374_jpg.rf.da2adbd2610ee944b1661ecac87906ef.jpg: 1 duplicate labels removed\n",
            "\u001b[34m\u001b[1mtrain: \u001b[0mWARNING ⚠️ /content/drive/MyDrive/Wheat head Segmentation Project/Yolo8/Segmentation.yolov8/train/images/48fe9c634_jpg.rf.5d078053549aafe380a7e1a85e3e1191.jpg: 1 duplicate labels removed\n",
            "\u001b[34m\u001b[1mtrain: \u001b[0mWARNING ⚠️ /content/drive/MyDrive/Wheat head Segmentation Project/Yolo8/Segmentation.yolov8/train/images/4a4a1d3e0_jpg.rf.f4da3f4950b15af217f196f98a36319a.jpg: 2 duplicate labels removed\n",
            "\u001b[34m\u001b[1mtrain: \u001b[0mWARNING ⚠️ /content/drive/MyDrive/Wheat head Segmentation Project/Yolo8/Segmentation.yolov8/train/images/4bdcb2c78_jpg.rf.601cd41eb4f2b3d9069f8770460fcbbb.jpg: 1 duplicate labels removed\n",
            "\u001b[34m\u001b[1mtrain: \u001b[0mWARNING ⚠️ /content/drive/MyDrive/Wheat head Segmentation Project/Yolo8/Segmentation.yolov8/train/images/4cbb2b7bd_jpg.rf.1361778230c21cc6461167f45ce98c0a.jpg: 1 duplicate labels removed\n",
            "\u001b[34m\u001b[1mtrain: \u001b[0mWARNING ⚠️ /content/drive/MyDrive/Wheat head Segmentation Project/Yolo8/Segmentation.yolov8/train/images/4e6891a56_jpg.rf.2170834556202dd228a3bda4a33b2b17.jpg: 1 duplicate labels removed\n",
            "\u001b[34m\u001b[1mtrain: \u001b[0mWARNING ⚠️ /content/drive/MyDrive/Wheat head Segmentation Project/Yolo8/Segmentation.yolov8/train/images/50c47d6b5_jpg.rf.f0e6b62cd6d47eb35a4ab7cf37708d0c.jpg: 1 duplicate labels removed\n",
            "\u001b[34m\u001b[1mtrain: \u001b[0mWARNING ⚠️ /content/drive/MyDrive/Wheat head Segmentation Project/Yolo8/Segmentation.yolov8/train/images/5d3b4d154_jpg.rf.153c0331c88473888b30b0df88a61295.jpg: 1 duplicate labels removed\n",
            "\u001b[34m\u001b[1mtrain: \u001b[0mWARNING ⚠️ /content/drive/MyDrive/Wheat head Segmentation Project/Yolo8/Segmentation.yolov8/train/images/614b1d8c5_jpg.rf.cdaa1527a5181c0bfd2cc127a77ba423.jpg: 1 duplicate labels removed\n",
            "\u001b[34m\u001b[1mtrain: \u001b[0mWARNING ⚠️ /content/drive/MyDrive/Wheat head Segmentation Project/Yolo8/Segmentation.yolov8/train/images/6651c6f2f_jpg.rf.3e4f6e65eff0f407aa1c7c2e7ae5f2d1.jpg: 1 duplicate labels removed\n",
            "\u001b[34m\u001b[1mtrain: \u001b[0mWARNING ⚠️ /content/drive/MyDrive/Wheat head Segmentation Project/Yolo8/Segmentation.yolov8/train/images/6cecd54f5_jpg.rf.a2964efe4313786fc1072bd911385ae5.jpg: 1 duplicate labels removed\n",
            "\u001b[34m\u001b[1mtrain: \u001b[0mWARNING ⚠️ /content/drive/MyDrive/Wheat head Segmentation Project/Yolo8/Segmentation.yolov8/train/images/72fa543d6_jpg.rf.8d0338758d377ef386121caf83a4a5e4.jpg: 1 duplicate labels removed\n",
            "\u001b[34m\u001b[1mtrain: \u001b[0mWARNING ⚠️ /content/drive/MyDrive/Wheat head Segmentation Project/Yolo8/Segmentation.yolov8/train/images/82b734b58_jpg.rf.37500bebd9d871f78a072631f9af9648.jpg: 1 duplicate labels removed\n",
            "\u001b[34m\u001b[1mtrain: \u001b[0mWARNING ⚠️ /content/drive/MyDrive/Wheat head Segmentation Project/Yolo8/Segmentation.yolov8/train/images/8405c37aa_jpg.rf.341b695d4c9e8781097e0a780a1cc12a.jpg: 1 duplicate labels removed\n",
            "\u001b[34m\u001b[1mtrain: \u001b[0mWARNING ⚠️ /content/drive/MyDrive/Wheat head Segmentation Project/Yolo8/Segmentation.yolov8/train/images/84e6957ae_jpg.rf.c5af71410f297269a395aad0c34ce640.jpg: 1 duplicate labels removed\n",
            "\u001b[34m\u001b[1mtrain: \u001b[0mWARNING ⚠️ /content/drive/MyDrive/Wheat head Segmentation Project/Yolo8/Segmentation.yolov8/train/images/855ca82c7_jpg.rf.c6ad075243ca93c9ea276df0399be7f5.jpg: 1 duplicate labels removed\n",
            "\u001b[34m\u001b[1mtrain: \u001b[0mWARNING ⚠️ /content/drive/MyDrive/Wheat head Segmentation Project/Yolo8/Segmentation.yolov8/train/images/8930b9069_jpg.rf.eb312576a990d28f80d8fc670a107a5f.jpg: 1 duplicate labels removed\n",
            "\u001b[34m\u001b[1mtrain: \u001b[0mWARNING ⚠️ /content/drive/MyDrive/Wheat head Segmentation Project/Yolo8/Segmentation.yolov8/train/images/8a948e84b_jpg.rf.5df50f9a711c74fb89b7821bf977828a.jpg: 2 duplicate labels removed\n",
            "\u001b[34m\u001b[1mtrain: \u001b[0mWARNING ⚠️ /content/drive/MyDrive/Wheat head Segmentation Project/Yolo8/Segmentation.yolov8/train/images/8cad1a1e0_jpg.rf.7cc08aebaee475aa88125c8b87e75191.jpg: 1 duplicate labels removed\n",
            "\u001b[34m\u001b[1mtrain: \u001b[0mWARNING ⚠️ /content/drive/MyDrive/Wheat head Segmentation Project/Yolo8/Segmentation.yolov8/train/images/8d0b36c74_jpg.rf.e9a9c1b029737488c450af9536ca9ced.jpg: 1 duplicate labels removed\n",
            "\u001b[34m\u001b[1mtrain: \u001b[0mWARNING ⚠️ /content/drive/MyDrive/Wheat head Segmentation Project/Yolo8/Segmentation.yolov8/train/images/90dae4a54_jpg.rf.ae44cba4614b4eea0768b4288e0d0f3e.jpg: 1 duplicate labels removed\n",
            "\u001b[34m\u001b[1mtrain: \u001b[0mWARNING ⚠️ /content/drive/MyDrive/Wheat head Segmentation Project/Yolo8/Segmentation.yolov8/train/images/a024116dc_jpg.rf.a2159ad612e4128cad1d7b3677c422be.jpg: 1 duplicate labels removed\n",
            "\u001b[34m\u001b[1mtrain: \u001b[0mWARNING ⚠️ /content/drive/MyDrive/Wheat head Segmentation Project/Yolo8/Segmentation.yolov8/train/images/a28d1eb6d_jpg.rf.4cbfdeb1c7fb7f0bd3fb5761c0a6ec18.jpg: 1 duplicate labels removed\n",
            "\u001b[34m\u001b[1mtrain: \u001b[0mWARNING ⚠️ /content/drive/MyDrive/Wheat head Segmentation Project/Yolo8/Segmentation.yolov8/train/images/a4dd288c0_jpg.rf.ab6d4f64bedbd1b4e76848f5e31c42ba.jpg: 1 duplicate labels removed\n",
            "\u001b[34m\u001b[1mtrain: \u001b[0mWARNING ⚠️ /content/drive/MyDrive/Wheat head Segmentation Project/Yolo8/Segmentation.yolov8/train/images/a7e9ac14b_jpg.rf.2108133beafbf0f725c400142d25fad1.jpg: 1 duplicate labels removed\n",
            "\u001b[34m\u001b[1mtrain: \u001b[0mWARNING ⚠️ /content/drive/MyDrive/Wheat head Segmentation Project/Yolo8/Segmentation.yolov8/train/images/a93fe47af_jpg.rf.4fd5546e8e9e6936877c3cc6fc1a8ba3.jpg: 1 duplicate labels removed\n",
            "\u001b[34m\u001b[1mtrain: \u001b[0mWARNING ⚠️ /content/drive/MyDrive/Wheat head Segmentation Project/Yolo8/Segmentation.yolov8/train/images/af35871fc_jpg.rf.39613d9753bf570441e0ad8e93c49256.jpg: 1 duplicate labels removed\n",
            "\u001b[34m\u001b[1mtrain: \u001b[0mWARNING ⚠️ /content/drive/MyDrive/Wheat head Segmentation Project/Yolo8/Segmentation.yolov8/train/images/b3ea991e1_jpg.rf.14ba096e47300d9c0aedbf6aa32f8223.jpg: 1 duplicate labels removed\n",
            "\u001b[34m\u001b[1mtrain: \u001b[0mWARNING ⚠️ /content/drive/MyDrive/Wheat head Segmentation Project/Yolo8/Segmentation.yolov8/train/images/b9d5a380d_jpg.rf.275bb464c7a50ce2926713781c4baedd.jpg: 1 duplicate labels removed\n",
            "\u001b[34m\u001b[1mtrain: \u001b[0mWARNING ⚠️ /content/drive/MyDrive/Wheat head Segmentation Project/Yolo8/Segmentation.yolov8/train/images/ba35357cb_jpg.rf.4fa65bcd340370d0b0084653de6098cb.jpg: 1 duplicate labels removed\n",
            "\u001b[34m\u001b[1mtrain: \u001b[0mWARNING ⚠️ /content/drive/MyDrive/Wheat head Segmentation Project/Yolo8/Segmentation.yolov8/train/images/bead3cebe_jpg.rf.488b84472804034a5e223e2ca6eb29d7.jpg: 1 duplicate labels removed\n",
            "\u001b[34m\u001b[1mtrain: \u001b[0mWARNING ⚠️ /content/drive/MyDrive/Wheat head Segmentation Project/Yolo8/Segmentation.yolov8/train/images/c08aa4a62_jpg.rf.8ea5ce06080c7e82f8bf42cd82dfbed6.jpg: 1 duplicate labels removed\n",
            "\u001b[34m\u001b[1mtrain: \u001b[0mWARNING ⚠️ /content/drive/MyDrive/Wheat head Segmentation Project/Yolo8/Segmentation.yolov8/train/images/c64a8e237_jpg.rf.6a58f01861acd91698efaf63f69f2c7f.jpg: 1 duplicate labels removed\n",
            "\u001b[34m\u001b[1mtrain: \u001b[0mWARNING ⚠️ /content/drive/MyDrive/Wheat head Segmentation Project/Yolo8/Segmentation.yolov8/train/images/c6654ff53_jpg.rf.8333c945af7dbace1d02200ace451719.jpg: 1 duplicate labels removed\n",
            "\u001b[34m\u001b[1mtrain: \u001b[0mWARNING ⚠️ /content/drive/MyDrive/Wheat head Segmentation Project/Yolo8/Segmentation.yolov8/train/images/d5943ea17_jpg.rf.bf17f7b146c6a7b6d86ea89a9af1831d.jpg: 1 duplicate labels removed\n",
            "\u001b[34m\u001b[1mtrain: \u001b[0mWARNING ⚠️ /content/drive/MyDrive/Wheat head Segmentation Project/Yolo8/Segmentation.yolov8/train/images/d8f09768d_jpg.rf.6e5114fd370c55e1cc9d84c50fda1204.jpg: 1 duplicate labels removed\n",
            "\u001b[34m\u001b[1mtrain: \u001b[0mWARNING ⚠️ /content/drive/MyDrive/Wheat head Segmentation Project/Yolo8/Segmentation.yolov8/train/images/d96205316_jpg.rf.d83f06d63bdab9ebf77a95b6fc43ffda.jpg: 1 duplicate labels removed\n",
            "\u001b[34m\u001b[1mtrain: \u001b[0mWARNING ⚠️ /content/drive/MyDrive/Wheat head Segmentation Project/Yolo8/Segmentation.yolov8/train/images/de7b4de8c_jpg.rf.13bbcffda3186db662bea386e4eff014.jpg: 1 duplicate labels removed\n",
            "\u001b[34m\u001b[1mtrain: \u001b[0mWARNING ⚠️ /content/drive/MyDrive/Wheat head Segmentation Project/Yolo8/Segmentation.yolov8/train/images/ded3279c6_jpg.rf.f16dedee008ecacc7ba722120fbeb0a7.jpg: 1 duplicate labels removed\n",
            "\u001b[34m\u001b[1mtrain: \u001b[0mWARNING ⚠️ /content/drive/MyDrive/Wheat head Segmentation Project/Yolo8/Segmentation.yolov8/train/images/e081e431a_jpg.rf.dc009beeab249d4df37a44df1f7f16f7.jpg: 1 duplicate labels removed\n",
            "\u001b[34m\u001b[1mtrain: \u001b[0mWARNING ⚠️ /content/drive/MyDrive/Wheat head Segmentation Project/Yolo8/Segmentation.yolov8/train/images/e11b95f4e_jpg.rf.58b14d004f1916bac766539435f41a43.jpg: 1 duplicate labels removed\n",
            "\u001b[34m\u001b[1mtrain: \u001b[0mWARNING ⚠️ /content/drive/MyDrive/Wheat head Segmentation Project/Yolo8/Segmentation.yolov8/train/images/e60d70a8f_jpg.rf.e62b34aa2c6718b79cc4e91c4f6cdf75.jpg: 1 duplicate labels removed\n",
            "\u001b[34m\u001b[1mtrain: \u001b[0mWARNING ⚠️ /content/drive/MyDrive/Wheat head Segmentation Project/Yolo8/Segmentation.yolov8/train/images/e67200e55_jpg.rf.7297eaf45abefb820ae2877f2f150c7b.jpg: 1 duplicate labels removed\n",
            "\u001b[34m\u001b[1mtrain: \u001b[0mWARNING ⚠️ /content/drive/MyDrive/Wheat head Segmentation Project/Yolo8/Segmentation.yolov8/train/images/e7337325d_jpg.rf.9f5ada21b1a13d2935810bbcc2672445.jpg: 1 duplicate labels removed\n",
            "\u001b[34m\u001b[1mtrain: \u001b[0mWARNING ⚠️ /content/drive/MyDrive/Wheat head Segmentation Project/Yolo8/Segmentation.yolov8/train/images/e7f4f02a7_jpg.rf.39e69d2204b0818b7de0aee97168f2cc.jpg: 1 duplicate labels removed\n",
            "\u001b[34m\u001b[1mtrain: \u001b[0mWARNING ⚠️ /content/drive/MyDrive/Wheat head Segmentation Project/Yolo8/Segmentation.yolov8/train/images/e840ecd4e_jpg.rf.760d360a05add0bcd86267ba2bc076f1.jpg: 1 duplicate labels removed\n",
            "\u001b[34m\u001b[1mtrain: \u001b[0mWARNING ⚠️ /content/drive/MyDrive/Wheat head Segmentation Project/Yolo8/Segmentation.yolov8/train/images/edf1fad26_jpg.rf.66ba9b14da91812d138d9f8c1dd83c5a.jpg: 1 duplicate labels removed\n",
            "\u001b[34m\u001b[1mtrain: \u001b[0mWARNING ⚠️ /content/drive/MyDrive/Wheat head Segmentation Project/Yolo8/Segmentation.yolov8/train/images/f15aa967e_jpg.rf.a342b8ac4f16d39d7056dcb3dd763d2c.jpg: 1 duplicate labels removed\n",
            "\u001b[34m\u001b[1mtrain: \u001b[0mWARNING ⚠️ /content/drive/MyDrive/Wheat head Segmentation Project/Yolo8/Segmentation.yolov8/train/images/f4a36a6fd_jpg.rf.1fbb41a9575a1ac703651ec602d0019b.jpg: 1 duplicate labels removed\n",
            "\u001b[34m\u001b[1mtrain: \u001b[0mWARNING ⚠️ /content/drive/MyDrive/Wheat head Segmentation Project/Yolo8/Segmentation.yolov8/train/images/f4f169106_jpg.rf.18559be8be7e94025f00f02f493c017e.jpg: 2 duplicate labels removed\n",
            "\u001b[34m\u001b[1mtrain: \u001b[0mWARNING ⚠️ /content/drive/MyDrive/Wheat head Segmentation Project/Yolo8/Segmentation.yolov8/train/images/f85244c49_jpg.rf.6f2389002d23590ada4a71c27b33cabf.jpg: 1 duplicate labels removed\n",
            "\u001b[34m\u001b[1mtrain: \u001b[0mWARNING ⚠️ /content/drive/MyDrive/Wheat head Segmentation Project/Yolo8/Segmentation.yolov8/train/images/fade0e053_jpg.rf.2277f45b2da8ab6a5ca00948ab074a19.jpg: 1 duplicate labels removed\n",
            "\u001b[34m\u001b[1mtrain: \u001b[0mWARNING ⚠️ /content/drive/MyDrive/Wheat head Segmentation Project/Yolo8/Segmentation.yolov8/train/images/fd3c02c74_jpg.rf.f4a2f48a68a01ac2dcacc97fc57ff26e.jpg: 1 duplicate labels removed\n"
          ]
        },
        {
          "output_type": "stream",
          "name": "stderr",
          "text": [
            "\n"
          ]
        },
        {
          "output_type": "stream",
          "name": "stdout",
          "text": [
            "\u001b[34m\u001b[1mtrain: \u001b[0mNew cache created: /content/drive/MyDrive/Wheat head Segmentation Project/Yolo8/Segmentation.yolov8/train/labels.cache\n",
            "\u001b[34m\u001b[1malbumentations: \u001b[0mBlur(p=0.01, blur_limit=(3, 7)), MedianBlur(p=0.01, blur_limit=(3, 7)), ToGray(p=0.01), CLAHE(p=0.01, clip_limit=(1, 4.0), tile_grid_size=(8, 8))\n"
          ]
        },
        {
          "output_type": "stream",
          "name": "stderr",
          "text": [
            "\u001b[34m\u001b[1mval: \u001b[0mScanning /content/drive/MyDrive/Wheat head Segmentation Project/Yolo8/Segmentation.yolov8/valid/labels... 670 images, 0 backgrounds, 0 corrupt: 100%|██████████| 670/670 [10:05<00:00,  1.11it/s]"
          ]
        },
        {
          "output_type": "stream",
          "name": "stdout",
          "text": [
            "\u001b[34m\u001b[1mval: \u001b[0mWARNING ⚠️ /content/drive/MyDrive/Wheat head Segmentation Project/Yolo8/Segmentation.yolov8/valid/images/027086635_jpg.rf.62236601306cf821dbb6364d476b9dcf.jpg: 1 duplicate labels removed\n",
            "\u001b[34m\u001b[1mval: \u001b[0mWARNING ⚠️ /content/drive/MyDrive/Wheat head Segmentation Project/Yolo8/Segmentation.yolov8/valid/images/05ac5dc96_jpg.rf.cbdda85f370357f9c4ddf025caf52fcd.jpg: 1 duplicate labels removed\n",
            "\u001b[34m\u001b[1mval: \u001b[0mWARNING ⚠️ /content/drive/MyDrive/Wheat head Segmentation Project/Yolo8/Segmentation.yolov8/valid/images/1690036d7_jpg.rf.3d3addc8243a1f0dfcbea149d6a3286b.jpg: 1 duplicate labels removed\n",
            "\u001b[34m\u001b[1mval: \u001b[0mWARNING ⚠️ /content/drive/MyDrive/Wheat head Segmentation Project/Yolo8/Segmentation.yolov8/valid/images/1b43ca0a6_jpg.rf.65ae409322e736c76dcc1166acc52c10.jpg: 1 duplicate labels removed\n",
            "\u001b[34m\u001b[1mval: \u001b[0mWARNING ⚠️ /content/drive/MyDrive/Wheat head Segmentation Project/Yolo8/Segmentation.yolov8/valid/images/52a0abc4b_jpg.rf.0efb0377863c1812774fe1343ce5810d.jpg: 1 duplicate labels removed\n",
            "\u001b[34m\u001b[1mval: \u001b[0mWARNING ⚠️ /content/drive/MyDrive/Wheat head Segmentation Project/Yolo8/Segmentation.yolov8/valid/images/7803a8211_jpg.rf.c21f92c2cbd553a91f712dee4e6833b7.jpg: 1 duplicate labels removed\n",
            "\u001b[34m\u001b[1mval: \u001b[0mWARNING ⚠️ /content/drive/MyDrive/Wheat head Segmentation Project/Yolo8/Segmentation.yolov8/valid/images/7bb11e582_jpg.rf.137a969729e4814ab524ce1c2c47a0c6.jpg: 1 duplicate labels removed\n",
            "\u001b[34m\u001b[1mval: \u001b[0mWARNING ⚠️ /content/drive/MyDrive/Wheat head Segmentation Project/Yolo8/Segmentation.yolov8/valid/images/ee8c82355_jpg.rf.ddcbb56d042e6d4f8a74fc813fa857a2.jpg: 1 duplicate labels removed\n",
            "\u001b[34m\u001b[1mval: \u001b[0mWARNING ⚠️ /content/drive/MyDrive/Wheat head Segmentation Project/Yolo8/Segmentation.yolov8/valid/images/f4f62f0f8_jpg.rf.a7bdece57a8c7b9b898eec92365a8a2c.jpg: 1 duplicate labels removed\n",
            "\u001b[34m\u001b[1mval: \u001b[0mWARNING ⚠️ /content/drive/MyDrive/Wheat head Segmentation Project/Yolo8/Segmentation.yolov8/valid/images/ffc870198_jpg.rf.fee3031170aa21251d09bdf432f9d58c.jpg: 1 duplicate labels removed\n"
          ]
        },
        {
          "output_type": "stream",
          "name": "stderr",
          "text": [
            "\n"
          ]
        },
        {
          "output_type": "stream",
          "name": "stdout",
          "text": [
            "\u001b[34m\u001b[1mval: \u001b[0mNew cache created: /content/drive/MyDrive/Wheat head Segmentation Project/Yolo8/Segmentation.yolov8/valid/labels.cache\n",
            "Plotting labels to runs/segment/train3/labels.jpg... \n",
            "\u001b[34m\u001b[1moptimizer:\u001b[0m 'optimizer=auto' found, ignoring 'lr0=0.01' and 'momentum=0.937' and determining best 'optimizer', 'lr0' and 'momentum' automatically... \n",
            "\u001b[34m\u001b[1moptimizer:\u001b[0m AdamW(lr=0.002, momentum=0.9) with parameter groups 106 weight(decay=0.0), 117 weight(decay=0.0005), 116 bias(decay=0.0)\n",
            "\u001b[34m\u001b[1mTensorBoard: \u001b[0mmodel graph visualization added ✅\n",
            "Image sizes 640 train, 640 val\n",
            "Using 1 dataloader workers\n",
            "Logging results to \u001b[1mruns/segment/train3\u001b[0m\n",
            "Starting training for 1 epochs...\n",
            "\n",
            "      Epoch    GPU_mem   box_loss   seg_loss   cls_loss   dfl_loss  Instances       Size\n"
          ]
        },
        {
          "output_type": "stream",
          "name": "stderr",
          "text": [
            "        1/1      10.3G      0.647     0.9551     0.3953      0.909        577        640: 100%|██████████| 338/338 [06:29<00:00,  1.15s/it]\n",
            "                 Class     Images  Instances      Box(P          R      mAP50  mAP50-95)     Mask(P          R      mAP50  mAP50-95): 100%|██████████| 42/42 [00:56<00:00,  1.33s/it]\n"
          ]
        },
        {
          "output_type": "stream",
          "name": "stdout",
          "text": [
            "                   all        670      28776      0.923      0.914      0.963      0.815      0.921      0.913      0.955      0.725\n",
            "\n",
            "1 epochs completed in 0.128 hours.\n",
            "Optimizer stripped from runs/segment/train3/weights/last.pt, 92.3MB\n",
            "Optimizer stripped from runs/segment/train3/weights/best.pt, 92.3MB\n",
            "\n",
            "Validating runs/segment/train3/weights/best.pt...\n",
            "Ultralytics YOLOv8.1.22 🚀 Python-3.10.12 torch-2.1.0+cu121 CUDA:0 (Tesla T4, 15102MiB)\n",
            "YOLOv8l-seg summary (fused): 295 layers, 45912659 parameters, 0 gradients, 220.1 GFLOPs\n"
          ]
        },
        {
          "output_type": "stream",
          "name": "stderr",
          "text": [
            "                 Class     Images  Instances      Box(P          R      mAP50  mAP50-95)     Mask(P          R      mAP50  mAP50-95): 100%|██████████| 42/42 [00:50<00:00,  1.21s/it]\n"
          ]
        },
        {
          "output_type": "stream",
          "name": "stdout",
          "text": [
            "                   all        670      28776      0.924      0.914      0.963      0.815      0.921      0.913      0.955      0.725\n",
            "Speed: 0.4ms preprocess, 20.2ms inference, 0.0ms loss, 3.8ms postprocess per image\n",
            "Results saved to \u001b[1mruns/segment/train3\u001b[0m\n"
          ]
        }
      ],
      "source": [
        "model = YOLO(\"/content/drive/MyDrive/Wheat head Segmentation Project/Yolo8/YOLOv8l-seg/runs/segment/train2/weights/last.pt\")\n",
        "results = model.train(data=\"/content/drive/MyDrive/Wheat head Segmentation Project/Yolo8/Segmentation.yolov8/data_yolo8.yaml\", epochs=1, workers=1, batch=8,imgsz=640,plots=True)"
      ]
    },
    {
      "cell_type": "markdown",
      "source": [
        "# Test Images Prediction"
      ],
      "metadata": {
        "id": "gKW3we8QFgDY"
      }
    },
    {
      "cell_type": "code",
      "source": [
        "!yolo task=segment mode=runs/segment/train3/weights/best.pt source=\"/contt/drive/MyDrive/Wheat head Segmentation Project/test-project#3\""
      ],
      "metadata": {
        "id": "dUAGupxUZA6n",
        "colab": {
          "base_uri": "https://localhost:8080/"
        },
        "outputId": "7906371d-a85d-4474-f9ca-fb8f7645e69d"
      },
      "execution_count": null,
      "outputs": [
        {
          "output_type": "stream",
          "name": "stdout",
          "text": [
            "Traceback (most recent call last):\n",
            "  File \"/usr/local/bin/yolo\", line 8, in <module>\n",
            "    sys.exit(entrypoint())\n",
            "  File \"/usr/local/lib/python3.10/dist-packages/ultralytics/cfg/__init__.py\", line 509, in entrypoint\n",
            "    raise ValueError(f\"Invalid 'mode={mode}'. Valid modes are {MODES}.\\n{CLI_HELP_MSG}\")\n",
            "ValueError: Invalid 'mode=runs/segment/train3/weights/best.pt'. Valid modes are ('train', 'val', 'predict', 'export', 'track', 'benchmark').\n",
            "\n",
            "    Arguments received: ['yolo', 'task=segment', 'mode=runs/segment/train3/weights/best.pt', 'source=/contt/drive/MyDrive/Wheat head Segmentation Project/test-project#3']. Ultralytics 'yolo' commands use the following syntax:\n",
            "\n",
            "        yolo TASK MODE ARGS\n",
            "\n",
            "        Where   TASK (optional) is one of ('detect', 'segment', 'classify', 'pose', 'obb')\n",
            "                MODE (required) is one of ('train', 'val', 'predict', 'export', 'track', 'benchmark')\n",
            "                ARGS (optional) are any number of custom 'arg=value' pairs like 'imgsz=320' that override defaults.\n",
            "                    See all ARGS at https://docs.ultralytics.com/usage/cfg or with 'yolo cfg'\n",
            "\n",
            "    1. Train a detection model for 10 epochs with an initial learning_rate of 0.01\n",
            "        yolo train data=coco128.yaml model=yolov8n.pt epochs=10 lr0=0.01\n",
            "\n",
            "    2. Predict a YouTube video using a pretrained segmentation model at image size 320:\n",
            "        yolo predict model=yolov8n-seg.pt source='https://youtu.be/LNwODJXcvt4' imgsz=320\n",
            "\n",
            "    3. Val a pretrained detection model at batch-size 1 and image size 640:\n",
            "        yolo val model=yolov8n.pt data=coco128.yaml batch=1 imgsz=640\n",
            "\n",
            "    4. Export a YOLOv8n classification model to ONNX format at image size 224 by 128 (no TASK required)\n",
            "        yolo export model=yolov8n-cls.pt format=onnx imgsz=224,128\n",
            "\n",
            "    6. Explore your datasets using semantic search and SQL with a simple GUI powered by Ultralytics Explorer API\n",
            "        yolo explorer\n",
            "\n",
            "    5. Run special commands:\n",
            "        yolo help\n",
            "        yolo checks\n",
            "        yolo version\n",
            "        yolo settings\n",
            "        yolo copy-cfg\n",
            "        yolo cfg\n",
            "\n",
            "    Docs: https://docs.ultralytics.com\n",
            "    Community: https://community.ultralytics.com\n",
            "    GitHub: https://github.com/ultralytics/ultralytics\n",
            "    \n"
          ]
        }
      ]
    },
    {
      "cell_type": "markdown",
      "source": [
        "#Convert best model from pt to onnx"
      ],
      "metadata": {
        "id": "a4wVNyBdEZSf"
      }
    },
    {
      "cell_type": "code",
      "source": [
        "model = YOLO(\"/content/drive/MyDrive/Wheat head Segmentation Project/Yolo8/YOLOv8l-seg/runs/segment/train3/weights/best.pt\")\n",
        "results = model.predict(source=\"/content/drive/MyDrive/Wheat head Segmentation Project/test-project#3/2fd875eaa.jpg\")[0]\n",
        "\n",
        "model.export(format=\"onnx\",imgsz=[640,640], opset=12)"
      ],
      "metadata": {
        "id": "mq2VKNuBEj2n"
      },
      "execution_count": null,
      "outputs": []
    },
    {
      "cell_type": "markdown",
      "source": [
        "#Inferece using onnx model"
      ],
      "metadata": {
        "id": "pP4LqkH8EnUC"
      }
    },
    {
      "cell_type": "code",
      "source": [
        "from ultralytics import YOLO\n",
        "import cv2\n",
        "import numpy as np\n",
        "\n",
        "model_path = '/content/drive/MyDrive/Result/Yolo/Yolov8l/best.onnx'\n",
        "image_path = '/content/drive/MyDrive/Wheat head Segmentation Project/test-project#3/2fd875eaa.jpg'\n",
        "\n",
        "img = cv2.imread(image_path)\n",
        "H, W, _ = img.shape\n",
        "\n",
        "model = YOLO(model_path, task='segment')\n",
        "\n",
        "results = model(img)\n",
        "combined_mask = np.zeros((H, W), dtype=np.uint8)\n",
        "polygons = []\n",
        "bounding_boxes = []\n",
        "\n",
        "for result in results:\n",
        "    for j, mask in enumerate(result.masks.data):\n",
        "        mask = mask.cpu().numpy() * 255\n",
        "        mask = cv2.resize(mask, (W, H))\n",
        "\n",
        "        _, binary_mask = cv2.threshold(mask, 128, 255, cv2.THRESH_BINARY)\n",
        "        binary_mask = binary_mask.astype(np.uint8)\n",
        "        combined_mask = np.maximum(combined_mask, binary_mask)\n",
        "        contours, hierarchy = cv2.findContours(binary_mask, cv2.RETR_TREE, cv2.CHAIN_APPROX_SIMPLE)\n",
        "        for contour in contours:\n",
        "            if cv2.contourArea(contour) > 0.5:\n",
        "                epsilon = 0.02 * cv2.arcLength(contour, True)\n",
        "                polygon = cv2.approxPolyDP(contour, epsilon, True)\n",
        "                polygons.append(polygon)\n",
        "                x, y, w, h = cv2.boundingRect(contour)\n",
        "                bounding_boxes.append((x, y, x + w, y + h))\n",
        "\n",
        "result_image = img.copy()\n",
        "red_color =   (0, 255, 0)\n",
        "label_color = (0, 0, 255)\n",
        "thickness = 2\n",
        "\n",
        "for box in bounding_boxes:\n",
        "    x1, y1, x2, y2 = box\n",
        "    cv2.rectangle(result_image, (x1, y1), (x2, y2), red_color, thickness)\n",
        "    cv2.putText(result_image, 'Wheat', (x1, y1 - 5), cv2.FONT_HERSHEY_SIMPLEX, 0.5, label_color, thickness)\n",
        "\n",
        "# Create a blank mask image\n",
        "mask_image = np.zeros((H, W), dtype=np.uint8)\n",
        "\n",
        "for polygon in polygons:\n",
        "    cv2.drawContours(mask_image, [polygon], -1, 255, thickness=cv2.FILLED)\n",
        "\n",
        "# Combine the original image with the bounding boxes and the mask\n",
        "result_image = cv2.addWeighted(result_image, 0.7, cv2.cvtColor(mask_image, cv2.COLOR_GRAY2BGR), 0.3, 0)\n",
        "\n",
        "cv2.imwrite('./Result.png', result_image)"
      ],
      "metadata": {
        "id": "Wr8o0cXeEywO"
      },
      "execution_count": null,
      "outputs": []
    }
  ],
  "metadata": {
    "accelerator": "GPU",
    "colab": {
      "gpuType": "T4",
      "provenance": []
    },
    "kernelspec": {
      "display_name": "Python 3",
      "name": "python3"
    },
    "language_info": {
      "name": "python"
    }
  },
  "nbformat": 4,
  "nbformat_minor": 0
}