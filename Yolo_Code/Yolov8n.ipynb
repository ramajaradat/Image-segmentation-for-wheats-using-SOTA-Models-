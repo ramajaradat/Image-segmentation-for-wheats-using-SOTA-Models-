{
  "nbformat": 4,
  "nbformat_minor": 0,
  "metadata": {
    "colab": {
      "provenance": [],
      "gpuType": "T4"
    },
    "kernelspec": {
      "name": "python3",
      "display_name": "Python 3"
    },
    "language_info": {
      "name": "python"
    },
    "accelerator": "GPU"
  },
  "cells": [
    {
      "cell_type": "code",
      "source": [
        "from google.colab import drive\n",
        "drive.mount('/content/drive')"
      ],
      "metadata": {
        "id": "I2ETbb8Kwa1t",
        "colab": {
          "base_uri": "https://localhost:8080/"
        },
        "outputId": "3191802d-ee37-4462-f0cb-886558399892"
      },
      "execution_count": null,
      "outputs": [
        {
          "output_type": "stream",
          "name": "stdout",
          "text": [
            "Mounted at /content/drive\n"
          ]
        }
      ]
    },
    {
      "cell_type": "markdown",
      "source": [
        "# Library"
      ],
      "metadata": {
        "id": "5ClxIr7hFDqB"
      }
    },
    {
      "cell_type": "code",
      "execution_count": null,
      "metadata": {
        "id": "pvX7DeySWrMx"
      },
      "outputs": [],
      "source": [
        "!nvidia-smi\n",
        "!pip install ultralytics==8.0.196\n",
        "from IPython import display\n",
        "display.clear_output()\n",
        "import ultralytics\n",
        "ultralytics.checks()\n",
        "from ultralytics import YOLO\n",
        "from IPython.display import display, Image"
      ]
    },
    {
      "cell_type": "code",
      "source": [
        "%cd '/content/drive/MyDrive/Wheat head Segmentation Project/Yolo8/yolov8n'"
      ],
      "metadata": {
        "id": "Qii30Fm7YK7x"
      },
      "execution_count": null,
      "outputs": []
    },
    {
      "cell_type": "markdown",
      "source": [
        "# Model train"
      ],
      "metadata": {
        "id": "Kwf2T87tYjfu"
      }
    },
    {
      "cell_type": "code",
      "source": [
        "model = YOLO(\"/content/drive/MyDrive/Wheat head Segmentation Project/Yolo8/yolov8n/runs/segment/train3/weights/last.pt\")\n",
        "model.train(data=\"/content/drive/MyDrive/Wheat head Segmentation Project/Yolo8/Segmentation.yolov8/data_yolo8.yaml\",epochs=1,imgsz=640,batch=8 , plots=True)"
      ],
      "metadata": {
        "colab": {
          "base_uri": "https://localhost:8080/"
        },
        "id": "38eEVzgNZRKd",
        "outputId": "b88086e8-0cc9-47f9-85eb-65a99bfa8c70"
      },
      "execution_count": null,
      "outputs": [
        {
          "output_type": "stream",
          "name": "stderr",
          "text": [
            "New https://pypi.org/project/ultralytics/8.1.20 available 😃 Update with 'pip install -U ultralytics'\n",
            "Ultralytics YOLOv8.0.196 🚀 Python-3.10.12 torch-2.1.0+cu121 CPU (AMD EPYC 7B12)\n",
            "\u001b[34m\u001b[1mengine/trainer: \u001b[0mtask=segment, mode=train, model=/content/drive/MyDrive/Wheat head Segmentation Project/Yolo8/yolov8n/runs/segment/train3/weights/last.pt, data=/content/drive/MyDrive/Wheat head Segmentation Project/Yolo8/Segmentation.yolov8/data_yolo8.yaml, epochs=1, patience=50, batch=8, imgsz=640, save=True, save_period=-1, cache=False, device=None, workers=8, project=None, name=None, exist_ok=False, pretrained=True, optimizer=auto, verbose=True, seed=0, deterministic=True, single_cls=False, rect=False, cos_lr=False, close_mosaic=10, resume=False, amp=True, fraction=1.0, profile=False, freeze=None, overlap_mask=True, mask_ratio=4, dropout=0.0, val=True, split=val, save_json=False, save_hybrid=False, conf=None, iou=0.7, max_det=300, half=False, dnn=False, plots=True, source=None, show=False, save_txt=False, save_conf=False, save_crop=False, show_labels=True, show_conf=True, vid_stride=1, stream_buffer=False, line_width=None, visualize=False, augment=False, agnostic_nms=False, classes=None, retina_masks=False, boxes=True, format=torchscript, keras=False, optimize=False, int8=False, dynamic=False, simplify=False, opset=None, workspace=4, nms=False, lr0=0.01, lrf=0.01, momentum=0.937, weight_decay=0.0005, warmup_epochs=3.0, warmup_momentum=0.8, warmup_bias_lr=0.1, box=7.5, cls=0.5, dfl=1.5, pose=12.0, kobj=1.0, label_smoothing=0.0, nbs=64, hsv_h=0.015, hsv_s=0.7, hsv_v=0.4, degrees=0.0, translate=0.1, scale=0.5, shear=0.0, perspective=0.0, flipud=0.0, fliplr=0.5, mosaic=1.0, mixup=0.0, copy_paste=0.0, cfg=None, tracker=botsort.yaml, save_dir=runs/segment/train4\n",
            "Downloading https://ultralytics.com/assets/Arial.ttf to '/root/.config/Ultralytics/Arial.ttf'...\n",
            "100%|██████████| 755k/755k [00:00<00:00, 15.6MB/s]\n",
            "\n",
            "                   from  n    params  module                                       arguments                     \n",
            "  0                  -1  1       464  ultralytics.nn.modules.conv.Conv             [3, 16, 3, 2]                 \n",
            "  1                  -1  1      4672  ultralytics.nn.modules.conv.Conv             [16, 32, 3, 2]                \n",
            "  2                  -1  1      7360  ultralytics.nn.modules.block.C2f             [32, 32, 1, True]             \n",
            "  3                  -1  1     18560  ultralytics.nn.modules.conv.Conv             [32, 64, 3, 2]                \n",
            "  4                  -1  2     49664  ultralytics.nn.modules.block.C2f             [64, 64, 2, True]             \n",
            "  5                  -1  1     73984  ultralytics.nn.modules.conv.Conv             [64, 128, 3, 2]               \n",
            "  6                  -1  2    197632  ultralytics.nn.modules.block.C2f             [128, 128, 2, True]           \n",
            "  7                  -1  1    295424  ultralytics.nn.modules.conv.Conv             [128, 256, 3, 2]              \n",
            "  8                  -1  1    460288  ultralytics.nn.modules.block.C2f             [256, 256, 1, True]           \n",
            "  9                  -1  1    164608  ultralytics.nn.modules.block.SPPF            [256, 256, 5]                 \n",
            " 10                  -1  1         0  torch.nn.modules.upsampling.Upsample         [None, 2, 'nearest']          \n",
            " 11             [-1, 6]  1         0  ultralytics.nn.modules.conv.Concat           [1]                           \n",
            " 12                  -1  1    148224  ultralytics.nn.modules.block.C2f             [384, 128, 1]                 \n",
            " 13                  -1  1         0  torch.nn.modules.upsampling.Upsample         [None, 2, 'nearest']          \n",
            " 14             [-1, 4]  1         0  ultralytics.nn.modules.conv.Concat           [1]                           \n",
            " 15                  -1  1     37248  ultralytics.nn.modules.block.C2f             [192, 64, 1]                  \n",
            " 16                  -1  1     36992  ultralytics.nn.modules.conv.Conv             [64, 64, 3, 2]                \n",
            " 17            [-1, 12]  1         0  ultralytics.nn.modules.conv.Concat           [1]                           \n",
            " 18                  -1  1    123648  ultralytics.nn.modules.block.C2f             [192, 128, 1]                 \n",
            " 19                  -1  1    147712  ultralytics.nn.modules.conv.Conv             [128, 128, 3, 2]              \n",
            " 20             [-1, 9]  1         0  ultralytics.nn.modules.conv.Concat           [1]                           \n",
            " 21                  -1  1    493056  ultralytics.nn.modules.block.C2f             [384, 256, 1]                 \n",
            " 22        [15, 18, 21]  1   1004275  ultralytics.nn.modules.head.Segment          [1, 32, 64, [64, 128, 256]]   \n",
            "YOLOv8n-seg summary: 261 layers, 3263811 parameters, 3263795 gradients, 12.1 GFLOPs\n",
            "\n",
            "Transferred 417/417 items from pretrained weights\n",
            "\u001b[34m\u001b[1mTensorBoard: \u001b[0mStart with 'tensorboard --logdir runs/segment/train4', view at http://localhost:6006/\n",
            "Freezing layer 'model.22.dfl.conv.weight'\n",
            "\u001b[34m\u001b[1mtrain: \u001b[0mScanning /content/drive/.shortcut-targets-by-id/1Br7pKQHnKasvIwnDj2DecsaHTZb-cvUb/Wheat head Segmentation Project/Yolo8/Segmentation.yolov8/train/labels.cache... 2703 images, 0 backgrounds, 0 corrupt: 100%|██████████| 2703/2703 [00:00<?, ?it/s]\n",
            "\u001b[34m\u001b[1mtrain: \u001b[0mWARNING ⚠️ /content/drive/.shortcut-targets-by-id/1Br7pKQHnKasvIwnDj2DecsaHTZb-cvUb/Wheat head Segmentation Project/Yolo8/Segmentation.yolov8/train/images/010c93b99_jpg.rf.3b17c19079367983ea6e62e18135a9b5.jpg: 1 duplicate labels removed\n",
            "\u001b[34m\u001b[1mtrain: \u001b[0mWARNING ⚠️ /content/drive/.shortcut-targets-by-id/1Br7pKQHnKasvIwnDj2DecsaHTZb-cvUb/Wheat head Segmentation Project/Yolo8/Segmentation.yolov8/train/images/060c572e4_jpg.rf.1260f007a85b7d20a4693e646d33d438.jpg: 1 duplicate labels removed\n",
            "\u001b[34m\u001b[1mtrain: \u001b[0mWARNING ⚠️ /content/drive/.shortcut-targets-by-id/1Br7pKQHnKasvIwnDj2DecsaHTZb-cvUb/Wheat head Segmentation Project/Yolo8/Segmentation.yolov8/train/images/1c5f25cd1_jpg.rf.7c46166df743ee271734757a8574ef03.jpg: 1 duplicate labels removed\n",
            "\u001b[34m\u001b[1mtrain: \u001b[0mWARNING ⚠️ /content/drive/.shortcut-targets-by-id/1Br7pKQHnKasvIwnDj2DecsaHTZb-cvUb/Wheat head Segmentation Project/Yolo8/Segmentation.yolov8/train/images/2474376a6_jpg.rf.af2be5e32ad89de40a647cc99d0bf7fd.jpg: 1 duplicate labels removed\n",
            "\u001b[34m\u001b[1mtrain: \u001b[0mWARNING ⚠️ /content/drive/.shortcut-targets-by-id/1Br7pKQHnKasvIwnDj2DecsaHTZb-cvUb/Wheat head Segmentation Project/Yolo8/Segmentation.yolov8/train/images/2d1b6ce2a_jpg.rf.4f95b6f748d7b520d5ca544f04e57b03.jpg: 1 duplicate labels removed\n",
            "\u001b[34m\u001b[1mtrain: \u001b[0mWARNING ⚠️ /content/drive/.shortcut-targets-by-id/1Br7pKQHnKasvIwnDj2DecsaHTZb-cvUb/Wheat head Segmentation Project/Yolo8/Segmentation.yolov8/train/images/305bf8b23_jpg.rf.8494f5d046e5066be78aa0268e085606.jpg: 1 duplicate labels removed\n",
            "\u001b[34m\u001b[1mtrain: \u001b[0mWARNING ⚠️ /content/drive/.shortcut-targets-by-id/1Br7pKQHnKasvIwnDj2DecsaHTZb-cvUb/Wheat head Segmentation Project/Yolo8/Segmentation.yolov8/train/images/311498261_jpg.rf.0e83c7ccc8f727617cbcfe21a5d81029.jpg: 1 duplicate labels removed\n",
            "\u001b[34m\u001b[1mtrain: \u001b[0mWARNING ⚠️ /content/drive/.shortcut-targets-by-id/1Br7pKQHnKasvIwnDj2DecsaHTZb-cvUb/Wheat head Segmentation Project/Yolo8/Segmentation.yolov8/train/images/333d4affe_jpg.rf.b6fea7f41eb300d5aa976e59ccb972b6.jpg: 1 duplicate labels removed\n",
            "\u001b[34m\u001b[1mtrain: \u001b[0mWARNING ⚠️ /content/drive/.shortcut-targets-by-id/1Br7pKQHnKasvIwnDj2DecsaHTZb-cvUb/Wheat head Segmentation Project/Yolo8/Segmentation.yolov8/train/images/3843b28ec_jpg.rf.45583b2fe802d67a8760ddb634e61264.jpg: 1 duplicate labels removed\n",
            "\u001b[34m\u001b[1mtrain: \u001b[0mWARNING ⚠️ /content/drive/.shortcut-targets-by-id/1Br7pKQHnKasvIwnDj2DecsaHTZb-cvUb/Wheat head Segmentation Project/Yolo8/Segmentation.yolov8/train/images/39614e195_jpg.rf.940d426fa4df82c141a18a5e6c41de6f.jpg: 1 duplicate labels removed\n",
            "\u001b[34m\u001b[1mtrain: \u001b[0mWARNING ⚠️ /content/drive/.shortcut-targets-by-id/1Br7pKQHnKasvIwnDj2DecsaHTZb-cvUb/Wheat head Segmentation Project/Yolo8/Segmentation.yolov8/train/images/3f2eddbe8_jpg.rf.b1b95a0a299d1613888e6d16bbb097f4.jpg: 1 duplicate labels removed\n",
            "\u001b[34m\u001b[1mtrain: \u001b[0mWARNING ⚠️ /content/drive/.shortcut-targets-by-id/1Br7pKQHnKasvIwnDj2DecsaHTZb-cvUb/Wheat head Segmentation Project/Yolo8/Segmentation.yolov8/train/images/40d727f36_jpg.rf.abb87316e32c7fde283049f575d609a1.jpg: 1 duplicate labels removed\n",
            "\u001b[34m\u001b[1mtrain: \u001b[0mWARNING ⚠️ /content/drive/.shortcut-targets-by-id/1Br7pKQHnKasvIwnDj2DecsaHTZb-cvUb/Wheat head Segmentation Project/Yolo8/Segmentation.yolov8/train/images/42cc125bc_jpg.rf.83b2e8a9ff7f26f5602da2924cd351aa.jpg: 1 duplicate labels removed\n",
            "\u001b[34m\u001b[1mtrain: \u001b[0mWARNING ⚠️ /content/drive/.shortcut-targets-by-id/1Br7pKQHnKasvIwnDj2DecsaHTZb-cvUb/Wheat head Segmentation Project/Yolo8/Segmentation.yolov8/train/images/46e480374_jpg.rf.da2adbd2610ee944b1661ecac87906ef.jpg: 1 duplicate labels removed\n",
            "\u001b[34m\u001b[1mtrain: \u001b[0mWARNING ⚠️ /content/drive/.shortcut-targets-by-id/1Br7pKQHnKasvIwnDj2DecsaHTZb-cvUb/Wheat head Segmentation Project/Yolo8/Segmentation.yolov8/train/images/48fe9c634_jpg.rf.5d078053549aafe380a7e1a85e3e1191.jpg: 1 duplicate labels removed\n",
            "\u001b[34m\u001b[1mtrain: \u001b[0mWARNING ⚠️ /content/drive/.shortcut-targets-by-id/1Br7pKQHnKasvIwnDj2DecsaHTZb-cvUb/Wheat head Segmentation Project/Yolo8/Segmentation.yolov8/train/images/4a4a1d3e0_jpg.rf.f4da3f4950b15af217f196f98a36319a.jpg: 2 duplicate labels removed\n",
            "\u001b[34m\u001b[1mtrain: \u001b[0mWARNING ⚠️ /content/drive/.shortcut-targets-by-id/1Br7pKQHnKasvIwnDj2DecsaHTZb-cvUb/Wheat head Segmentation Project/Yolo8/Segmentation.yolov8/train/images/4bdcb2c78_jpg.rf.601cd41eb4f2b3d9069f8770460fcbbb.jpg: 1 duplicate labels removed\n",
            "\u001b[34m\u001b[1mtrain: \u001b[0mWARNING ⚠️ /content/drive/.shortcut-targets-by-id/1Br7pKQHnKasvIwnDj2DecsaHTZb-cvUb/Wheat head Segmentation Project/Yolo8/Segmentation.yolov8/train/images/4cbb2b7bd_jpg.rf.1361778230c21cc6461167f45ce98c0a.jpg: 1 duplicate labels removed\n",
            "\u001b[34m\u001b[1mtrain: \u001b[0mWARNING ⚠️ /content/drive/.shortcut-targets-by-id/1Br7pKQHnKasvIwnDj2DecsaHTZb-cvUb/Wheat head Segmentation Project/Yolo8/Segmentation.yolov8/train/images/4e6891a56_jpg.rf.2170834556202dd228a3bda4a33b2b17.jpg: 1 duplicate labels removed\n",
            "\u001b[34m\u001b[1mtrain: \u001b[0mWARNING ⚠️ /content/drive/.shortcut-targets-by-id/1Br7pKQHnKasvIwnDj2DecsaHTZb-cvUb/Wheat head Segmentation Project/Yolo8/Segmentation.yolov8/train/images/50c47d6b5_jpg.rf.f0e6b62cd6d47eb35a4ab7cf37708d0c.jpg: 1 duplicate labels removed\n",
            "\u001b[34m\u001b[1mtrain: \u001b[0mWARNING ⚠️ /content/drive/.shortcut-targets-by-id/1Br7pKQHnKasvIwnDj2DecsaHTZb-cvUb/Wheat head Segmentation Project/Yolo8/Segmentation.yolov8/train/images/5d3b4d154_jpg.rf.153c0331c88473888b30b0df88a61295.jpg: 1 duplicate labels removed\n",
            "\u001b[34m\u001b[1mtrain: \u001b[0mWARNING ⚠️ /content/drive/.shortcut-targets-by-id/1Br7pKQHnKasvIwnDj2DecsaHTZb-cvUb/Wheat head Segmentation Project/Yolo8/Segmentation.yolov8/train/images/614b1d8c5_jpg.rf.cdaa1527a5181c0bfd2cc127a77ba423.jpg: 1 duplicate labels removed\n",
            "\u001b[34m\u001b[1mtrain: \u001b[0mWARNING ⚠️ /content/drive/.shortcut-targets-by-id/1Br7pKQHnKasvIwnDj2DecsaHTZb-cvUb/Wheat head Segmentation Project/Yolo8/Segmentation.yolov8/train/images/6651c6f2f_jpg.rf.3e4f6e65eff0f407aa1c7c2e7ae5f2d1.jpg: 1 duplicate labels removed\n",
            "\u001b[34m\u001b[1mtrain: \u001b[0mWARNING ⚠️ /content/drive/.shortcut-targets-by-id/1Br7pKQHnKasvIwnDj2DecsaHTZb-cvUb/Wheat head Segmentation Project/Yolo8/Segmentation.yolov8/train/images/6cecd54f5_jpg.rf.a2964efe4313786fc1072bd911385ae5.jpg: 1 duplicate labels removed\n",
            "\u001b[34m\u001b[1mtrain: \u001b[0mWARNING ⚠️ /content/drive/.shortcut-targets-by-id/1Br7pKQHnKasvIwnDj2DecsaHTZb-cvUb/Wheat head Segmentation Project/Yolo8/Segmentation.yolov8/train/images/72fa543d6_jpg.rf.8d0338758d377ef386121caf83a4a5e4.jpg: 1 duplicate labels removed\n",
            "\u001b[34m\u001b[1mtrain: \u001b[0mWARNING ⚠️ /content/drive/.shortcut-targets-by-id/1Br7pKQHnKasvIwnDj2DecsaHTZb-cvUb/Wheat head Segmentation Project/Yolo8/Segmentation.yolov8/train/images/82b734b58_jpg.rf.37500bebd9d871f78a072631f9af9648.jpg: 1 duplicate labels removed\n",
            "\u001b[34m\u001b[1mtrain: \u001b[0mWARNING ⚠️ /content/drive/.shortcut-targets-by-id/1Br7pKQHnKasvIwnDj2DecsaHTZb-cvUb/Wheat head Segmentation Project/Yolo8/Segmentation.yolov8/train/images/8405c37aa_jpg.rf.341b695d4c9e8781097e0a780a1cc12a.jpg: 1 duplicate labels removed\n",
            "\u001b[34m\u001b[1mtrain: \u001b[0mWARNING ⚠️ /content/drive/.shortcut-targets-by-id/1Br7pKQHnKasvIwnDj2DecsaHTZb-cvUb/Wheat head Segmentation Project/Yolo8/Segmentation.yolov8/train/images/84e6957ae_jpg.rf.c5af71410f297269a395aad0c34ce640.jpg: 1 duplicate labels removed\n",
            "\u001b[34m\u001b[1mtrain: \u001b[0mWARNING ⚠️ /content/drive/.shortcut-targets-by-id/1Br7pKQHnKasvIwnDj2DecsaHTZb-cvUb/Wheat head Segmentation Project/Yolo8/Segmentation.yolov8/train/images/855ca82c7_jpg.rf.c6ad075243ca93c9ea276df0399be7f5.jpg: 1 duplicate labels removed\n",
            "\u001b[34m\u001b[1mtrain: \u001b[0mWARNING ⚠️ /content/drive/.shortcut-targets-by-id/1Br7pKQHnKasvIwnDj2DecsaHTZb-cvUb/Wheat head Segmentation Project/Yolo8/Segmentation.yolov8/train/images/8930b9069_jpg.rf.eb312576a990d28f80d8fc670a107a5f.jpg: 1 duplicate labels removed\n",
            "\u001b[34m\u001b[1mtrain: \u001b[0mWARNING ⚠️ /content/drive/.shortcut-targets-by-id/1Br7pKQHnKasvIwnDj2DecsaHTZb-cvUb/Wheat head Segmentation Project/Yolo8/Segmentation.yolov8/train/images/8a948e84b_jpg.rf.5df50f9a711c74fb89b7821bf977828a.jpg: 2 duplicate labels removed\n",
            "\u001b[34m\u001b[1mtrain: \u001b[0mWARNING ⚠️ /content/drive/.shortcut-targets-by-id/1Br7pKQHnKasvIwnDj2DecsaHTZb-cvUb/Wheat head Segmentation Project/Yolo8/Segmentation.yolov8/train/images/8cad1a1e0_jpg.rf.7cc08aebaee475aa88125c8b87e75191.jpg: 1 duplicate labels removed\n",
            "\u001b[34m\u001b[1mtrain: \u001b[0mWARNING ⚠️ /content/drive/.shortcut-targets-by-id/1Br7pKQHnKasvIwnDj2DecsaHTZb-cvUb/Wheat head Segmentation Project/Yolo8/Segmentation.yolov8/train/images/8d0b36c74_jpg.rf.e9a9c1b029737488c450af9536ca9ced.jpg: 1 duplicate labels removed\n",
            "\u001b[34m\u001b[1mtrain: \u001b[0mWARNING ⚠️ /content/drive/.shortcut-targets-by-id/1Br7pKQHnKasvIwnDj2DecsaHTZb-cvUb/Wheat head Segmentation Project/Yolo8/Segmentation.yolov8/train/images/90dae4a54_jpg.rf.ae44cba4614b4eea0768b4288e0d0f3e.jpg: 1 duplicate labels removed\n",
            "\u001b[34m\u001b[1mtrain: \u001b[0mWARNING ⚠️ /content/drive/.shortcut-targets-by-id/1Br7pKQHnKasvIwnDj2DecsaHTZb-cvUb/Wheat head Segmentation Project/Yolo8/Segmentation.yolov8/train/images/a024116dc_jpg.rf.a2159ad612e4128cad1d7b3677c422be.jpg: 1 duplicate labels removed\n",
            "\u001b[34m\u001b[1mtrain: \u001b[0mWARNING ⚠️ /content/drive/.shortcut-targets-by-id/1Br7pKQHnKasvIwnDj2DecsaHTZb-cvUb/Wheat head Segmentation Project/Yolo8/Segmentation.yolov8/train/images/a28d1eb6d_jpg.rf.4cbfdeb1c7fb7f0bd3fb5761c0a6ec18.jpg: 1 duplicate labels removed\n",
            "\u001b[34m\u001b[1mtrain: \u001b[0mWARNING ⚠️ /content/drive/.shortcut-targets-by-id/1Br7pKQHnKasvIwnDj2DecsaHTZb-cvUb/Wheat head Segmentation Project/Yolo8/Segmentation.yolov8/train/images/a4dd288c0_jpg.rf.ab6d4f64bedbd1b4e76848f5e31c42ba.jpg: 1 duplicate labels removed\n",
            "\u001b[34m\u001b[1mtrain: \u001b[0mWARNING ⚠️ /content/drive/.shortcut-targets-by-id/1Br7pKQHnKasvIwnDj2DecsaHTZb-cvUb/Wheat head Segmentation Project/Yolo8/Segmentation.yolov8/train/images/a7e9ac14b_jpg.rf.2108133beafbf0f725c400142d25fad1.jpg: 1 duplicate labels removed\n",
            "\u001b[34m\u001b[1mtrain: \u001b[0mWARNING ⚠️ /content/drive/.shortcut-targets-by-id/1Br7pKQHnKasvIwnDj2DecsaHTZb-cvUb/Wheat head Segmentation Project/Yolo8/Segmentation.yolov8/train/images/a93fe47af_jpg.rf.4fd5546e8e9e6936877c3cc6fc1a8ba3.jpg: 1 duplicate labels removed\n",
            "\u001b[34m\u001b[1mtrain: \u001b[0mWARNING ⚠️ /content/drive/.shortcut-targets-by-id/1Br7pKQHnKasvIwnDj2DecsaHTZb-cvUb/Wheat head Segmentation Project/Yolo8/Segmentation.yolov8/train/images/af35871fc_jpg.rf.39613d9753bf570441e0ad8e93c49256.jpg: 1 duplicate labels removed\n",
            "\u001b[34m\u001b[1mtrain: \u001b[0mWARNING ⚠️ /content/drive/.shortcut-targets-by-id/1Br7pKQHnKasvIwnDj2DecsaHTZb-cvUb/Wheat head Segmentation Project/Yolo8/Segmentation.yolov8/train/images/b3ea991e1_jpg.rf.14ba096e47300d9c0aedbf6aa32f8223.jpg: 1 duplicate labels removed\n",
            "\u001b[34m\u001b[1mtrain: \u001b[0mWARNING ⚠️ /content/drive/.shortcut-targets-by-id/1Br7pKQHnKasvIwnDj2DecsaHTZb-cvUb/Wheat head Segmentation Project/Yolo8/Segmentation.yolov8/train/images/b9d5a380d_jpg.rf.275bb464c7a50ce2926713781c4baedd.jpg: 1 duplicate labels removed\n",
            "\u001b[34m\u001b[1mtrain: \u001b[0mWARNING ⚠️ /content/drive/.shortcut-targets-by-id/1Br7pKQHnKasvIwnDj2DecsaHTZb-cvUb/Wheat head Segmentation Project/Yolo8/Segmentation.yolov8/train/images/ba35357cb_jpg.rf.4fa65bcd340370d0b0084653de6098cb.jpg: 1 duplicate labels removed\n",
            "\u001b[34m\u001b[1mtrain: \u001b[0mWARNING ⚠️ /content/drive/.shortcut-targets-by-id/1Br7pKQHnKasvIwnDj2DecsaHTZb-cvUb/Wheat head Segmentation Project/Yolo8/Segmentation.yolov8/train/images/bead3cebe_jpg.rf.488b84472804034a5e223e2ca6eb29d7.jpg: 1 duplicate labels removed\n",
            "\u001b[34m\u001b[1mtrain: \u001b[0mWARNING ⚠️ /content/drive/.shortcut-targets-by-id/1Br7pKQHnKasvIwnDj2DecsaHTZb-cvUb/Wheat head Segmentation Project/Yolo8/Segmentation.yolov8/train/images/c08aa4a62_jpg.rf.8ea5ce06080c7e82f8bf42cd82dfbed6.jpg: 1 duplicate labels removed\n",
            "\u001b[34m\u001b[1mtrain: \u001b[0mWARNING ⚠️ /content/drive/.shortcut-targets-by-id/1Br7pKQHnKasvIwnDj2DecsaHTZb-cvUb/Wheat head Segmentation Project/Yolo8/Segmentation.yolov8/train/images/c64a8e237_jpg.rf.6a58f01861acd91698efaf63f69f2c7f.jpg: 1 duplicate labels removed\n",
            "\u001b[34m\u001b[1mtrain: \u001b[0mWARNING ⚠️ /content/drive/.shortcut-targets-by-id/1Br7pKQHnKasvIwnDj2DecsaHTZb-cvUb/Wheat head Segmentation Project/Yolo8/Segmentation.yolov8/train/images/c6654ff53_jpg.rf.8333c945af7dbace1d02200ace451719.jpg: 1 duplicate labels removed\n",
            "\u001b[34m\u001b[1mtrain: \u001b[0mWARNING ⚠️ /content/drive/.shortcut-targets-by-id/1Br7pKQHnKasvIwnDj2DecsaHTZb-cvUb/Wheat head Segmentation Project/Yolo8/Segmentation.yolov8/train/images/d5943ea17_jpg.rf.bf17f7b146c6a7b6d86ea89a9af1831d.jpg: 1 duplicate labels removed\n",
            "\u001b[34m\u001b[1mtrain: \u001b[0mWARNING ⚠️ /content/drive/.shortcut-targets-by-id/1Br7pKQHnKasvIwnDj2DecsaHTZb-cvUb/Wheat head Segmentation Project/Yolo8/Segmentation.yolov8/train/images/d8f09768d_jpg.rf.6e5114fd370c55e1cc9d84c50fda1204.jpg: 1 duplicate labels removed\n",
            "\u001b[34m\u001b[1mtrain: \u001b[0mWARNING ⚠️ /content/drive/.shortcut-targets-by-id/1Br7pKQHnKasvIwnDj2DecsaHTZb-cvUb/Wheat head Segmentation Project/Yolo8/Segmentation.yolov8/train/images/d96205316_jpg.rf.d83f06d63bdab9ebf77a95b6fc43ffda.jpg: 1 duplicate labels removed\n",
            "\u001b[34m\u001b[1mtrain: \u001b[0mWARNING ⚠️ /content/drive/.shortcut-targets-by-id/1Br7pKQHnKasvIwnDj2DecsaHTZb-cvUb/Wheat head Segmentation Project/Yolo8/Segmentation.yolov8/train/images/de7b4de8c_jpg.rf.13bbcffda3186db662bea386e4eff014.jpg: 1 duplicate labels removed\n",
            "\u001b[34m\u001b[1mtrain: \u001b[0mWARNING ⚠️ /content/drive/.shortcut-targets-by-id/1Br7pKQHnKasvIwnDj2DecsaHTZb-cvUb/Wheat head Segmentation Project/Yolo8/Segmentation.yolov8/train/images/ded3279c6_jpg.rf.f16dedee008ecacc7ba722120fbeb0a7.jpg: 1 duplicate labels removed\n",
            "\u001b[34m\u001b[1mtrain: \u001b[0mWARNING ⚠️ /content/drive/.shortcut-targets-by-id/1Br7pKQHnKasvIwnDj2DecsaHTZb-cvUb/Wheat head Segmentation Project/Yolo8/Segmentation.yolov8/train/images/e081e431a_jpg.rf.dc009beeab249d4df37a44df1f7f16f7.jpg: 1 duplicate labels removed\n",
            "\u001b[34m\u001b[1mtrain: \u001b[0mWARNING ⚠️ /content/drive/.shortcut-targets-by-id/1Br7pKQHnKasvIwnDj2DecsaHTZb-cvUb/Wheat head Segmentation Project/Yolo8/Segmentation.yolov8/train/images/e11b95f4e_jpg.rf.58b14d004f1916bac766539435f41a43.jpg: 1 duplicate labels removed\n",
            "\u001b[34m\u001b[1mtrain: \u001b[0mWARNING ⚠️ /content/drive/.shortcut-targets-by-id/1Br7pKQHnKasvIwnDj2DecsaHTZb-cvUb/Wheat head Segmentation Project/Yolo8/Segmentation.yolov8/train/images/e60d70a8f_jpg.rf.e62b34aa2c6718b79cc4e91c4f6cdf75.jpg: 1 duplicate labels removed\n",
            "\u001b[34m\u001b[1mtrain: \u001b[0mWARNING ⚠️ /content/drive/.shortcut-targets-by-id/1Br7pKQHnKasvIwnDj2DecsaHTZb-cvUb/Wheat head Segmentation Project/Yolo8/Segmentation.yolov8/train/images/e67200e55_jpg.rf.7297eaf45abefb820ae2877f2f150c7b.jpg: 1 duplicate labels removed\n",
            "\u001b[34m\u001b[1mtrain: \u001b[0mWARNING ⚠️ /content/drive/.shortcut-targets-by-id/1Br7pKQHnKasvIwnDj2DecsaHTZb-cvUb/Wheat head Segmentation Project/Yolo8/Segmentation.yolov8/train/images/e7337325d_jpg.rf.9f5ada21b1a13d2935810bbcc2672445.jpg: 1 duplicate labels removed\n",
            "\u001b[34m\u001b[1mtrain: \u001b[0mWARNING ⚠️ /content/drive/.shortcut-targets-by-id/1Br7pKQHnKasvIwnDj2DecsaHTZb-cvUb/Wheat head Segmentation Project/Yolo8/Segmentation.yolov8/train/images/e7f4f02a7_jpg.rf.39e69d2204b0818b7de0aee97168f2cc.jpg: 1 duplicate labels removed\n",
            "\u001b[34m\u001b[1mtrain: \u001b[0mWARNING ⚠️ /content/drive/.shortcut-targets-by-id/1Br7pKQHnKasvIwnDj2DecsaHTZb-cvUb/Wheat head Segmentation Project/Yolo8/Segmentation.yolov8/train/images/e840ecd4e_jpg.rf.760d360a05add0bcd86267ba2bc076f1.jpg: 1 duplicate labels removed\n",
            "\u001b[34m\u001b[1mtrain: \u001b[0mWARNING ⚠️ /content/drive/.shortcut-targets-by-id/1Br7pKQHnKasvIwnDj2DecsaHTZb-cvUb/Wheat head Segmentation Project/Yolo8/Segmentation.yolov8/train/images/edf1fad26_jpg.rf.66ba9b14da91812d138d9f8c1dd83c5a.jpg: 1 duplicate labels removed\n",
            "\u001b[34m\u001b[1mtrain: \u001b[0mWARNING ⚠️ /content/drive/.shortcut-targets-by-id/1Br7pKQHnKasvIwnDj2DecsaHTZb-cvUb/Wheat head Segmentation Project/Yolo8/Segmentation.yolov8/train/images/f15aa967e_jpg.rf.a342b8ac4f16d39d7056dcb3dd763d2c.jpg: 1 duplicate labels removed\n",
            "\u001b[34m\u001b[1mtrain: \u001b[0mWARNING ⚠️ /content/drive/.shortcut-targets-by-id/1Br7pKQHnKasvIwnDj2DecsaHTZb-cvUb/Wheat head Segmentation Project/Yolo8/Segmentation.yolov8/train/images/f4a36a6fd_jpg.rf.1fbb41a9575a1ac703651ec602d0019b.jpg: 1 duplicate labels removed\n",
            "\u001b[34m\u001b[1mtrain: \u001b[0mWARNING ⚠️ /content/drive/.shortcut-targets-by-id/1Br7pKQHnKasvIwnDj2DecsaHTZb-cvUb/Wheat head Segmentation Project/Yolo8/Segmentation.yolov8/train/images/f4f169106_jpg.rf.18559be8be7e94025f00f02f493c017e.jpg: 2 duplicate labels removed\n",
            "\u001b[34m\u001b[1mtrain: \u001b[0mWARNING ⚠️ /content/drive/.shortcut-targets-by-id/1Br7pKQHnKasvIwnDj2DecsaHTZb-cvUb/Wheat head Segmentation Project/Yolo8/Segmentation.yolov8/train/images/f85244c49_jpg.rf.6f2389002d23590ada4a71c27b33cabf.jpg: 1 duplicate labels removed\n",
            "\u001b[34m\u001b[1mtrain: \u001b[0mWARNING ⚠️ /content/drive/.shortcut-targets-by-id/1Br7pKQHnKasvIwnDj2DecsaHTZb-cvUb/Wheat head Segmentation Project/Yolo8/Segmentation.yolov8/train/images/fade0e053_jpg.rf.2277f45b2da8ab6a5ca00948ab074a19.jpg: 1 duplicate labels removed\n",
            "\u001b[34m\u001b[1mtrain: \u001b[0mWARNING ⚠️ /content/drive/.shortcut-targets-by-id/1Br7pKQHnKasvIwnDj2DecsaHTZb-cvUb/Wheat head Segmentation Project/Yolo8/Segmentation.yolov8/train/images/fd3c02c74_jpg.rf.f4a2f48a68a01ac2dcacc97fc57ff26e.jpg: 1 duplicate labels removed\n",
            "\u001b[34m\u001b[1malbumentations: \u001b[0mBlur(p=0.01, blur_limit=(3, 7)), MedianBlur(p=0.01, blur_limit=(3, 7)), ToGray(p=0.01), CLAHE(p=0.01, clip_limit=(1, 4.0), tile_grid_size=(8, 8))\n",
            "\u001b[34m\u001b[1mval: \u001b[0mScanning /content/drive/.shortcut-targets-by-id/1Br7pKQHnKasvIwnDj2DecsaHTZb-cvUb/Wheat head Segmentation Project/Yolo8/Segmentation.yolov8/valid/labels.cache... 670 images, 0 backgrounds, 0 corrupt: 100%|██████████| 670/670 [00:00<?, ?it/s]\n",
            "\u001b[34m\u001b[1mval: \u001b[0mWARNING ⚠️ /content/drive/.shortcut-targets-by-id/1Br7pKQHnKasvIwnDj2DecsaHTZb-cvUb/Wheat head Segmentation Project/Yolo8/Segmentation.yolov8/valid/images/027086635_jpg.rf.62236601306cf821dbb6364d476b9dcf.jpg: 1 duplicate labels removed\n",
            "\u001b[34m\u001b[1mval: \u001b[0mWARNING ⚠️ /content/drive/.shortcut-targets-by-id/1Br7pKQHnKasvIwnDj2DecsaHTZb-cvUb/Wheat head Segmentation Project/Yolo8/Segmentation.yolov8/valid/images/05ac5dc96_jpg.rf.cbdda85f370357f9c4ddf025caf52fcd.jpg: 1 duplicate labels removed\n",
            "\u001b[34m\u001b[1mval: \u001b[0mWARNING ⚠️ /content/drive/.shortcut-targets-by-id/1Br7pKQHnKasvIwnDj2DecsaHTZb-cvUb/Wheat head Segmentation Project/Yolo8/Segmentation.yolov8/valid/images/1690036d7_jpg.rf.3d3addc8243a1f0dfcbea149d6a3286b.jpg: 1 duplicate labels removed\n",
            "\u001b[34m\u001b[1mval: \u001b[0mWARNING ⚠️ /content/drive/.shortcut-targets-by-id/1Br7pKQHnKasvIwnDj2DecsaHTZb-cvUb/Wheat head Segmentation Project/Yolo8/Segmentation.yolov8/valid/images/1b43ca0a6_jpg.rf.65ae409322e736c76dcc1166acc52c10.jpg: 1 duplicate labels removed\n",
            "\u001b[34m\u001b[1mval: \u001b[0mWARNING ⚠️ /content/drive/.shortcut-targets-by-id/1Br7pKQHnKasvIwnDj2DecsaHTZb-cvUb/Wheat head Segmentation Project/Yolo8/Segmentation.yolov8/valid/images/52a0abc4b_jpg.rf.0efb0377863c1812774fe1343ce5810d.jpg: 1 duplicate labels removed\n",
            "\u001b[34m\u001b[1mval: \u001b[0mWARNING ⚠️ /content/drive/.shortcut-targets-by-id/1Br7pKQHnKasvIwnDj2DecsaHTZb-cvUb/Wheat head Segmentation Project/Yolo8/Segmentation.yolov8/valid/images/7803a8211_jpg.rf.c21f92c2cbd553a91f712dee4e6833b7.jpg: 1 duplicate labels removed\n",
            "\u001b[34m\u001b[1mval: \u001b[0mWARNING ⚠️ /content/drive/.shortcut-targets-by-id/1Br7pKQHnKasvIwnDj2DecsaHTZb-cvUb/Wheat head Segmentation Project/Yolo8/Segmentation.yolov8/valid/images/7bb11e582_jpg.rf.137a969729e4814ab524ce1c2c47a0c6.jpg: 1 duplicate labels removed\n",
            "\u001b[34m\u001b[1mval: \u001b[0mWARNING ⚠️ /content/drive/.shortcut-targets-by-id/1Br7pKQHnKasvIwnDj2DecsaHTZb-cvUb/Wheat head Segmentation Project/Yolo8/Segmentation.yolov8/valid/images/ee8c82355_jpg.rf.ddcbb56d042e6d4f8a74fc813fa857a2.jpg: 1 duplicate labels removed\n",
            "\u001b[34m\u001b[1mval: \u001b[0mWARNING ⚠️ /content/drive/.shortcut-targets-by-id/1Br7pKQHnKasvIwnDj2DecsaHTZb-cvUb/Wheat head Segmentation Project/Yolo8/Segmentation.yolov8/valid/images/f4f62f0f8_jpg.rf.a7bdece57a8c7b9b898eec92365a8a2c.jpg: 1 duplicate labels removed\n",
            "\u001b[34m\u001b[1mval: \u001b[0mWARNING ⚠️ /content/drive/.shortcut-targets-by-id/1Br7pKQHnKasvIwnDj2DecsaHTZb-cvUb/Wheat head Segmentation Project/Yolo8/Segmentation.yolov8/valid/images/ffc870198_jpg.rf.fee3031170aa21251d09bdf432f9d58c.jpg: 1 duplicate labels removed\n",
            "Plotting labels to runs/segment/train4/labels.jpg... \n",
            "\u001b[34m\u001b[1moptimizer:\u001b[0m 'optimizer=auto' found, ignoring 'lr0=0.01' and 'momentum=0.937' and determining best 'optimizer', 'lr0' and 'momentum' automatically... \n",
            "\u001b[34m\u001b[1moptimizer:\u001b[0m AdamW(lr=0.002, momentum=0.9) with parameter groups 66 weight(decay=0.0), 77 weight(decay=0.0005), 76 bias(decay=0.0)\n",
            "Image sizes 640 train, 640 val\n",
            "Using 0 dataloader workers\n",
            "Logging results to \u001b[1mruns/segment/train4\u001b[0m\n",
            "Starting training for 1 epochs...\n",
            "\n",
            "      Epoch    GPU_mem   box_loss   seg_loss   cls_loss   dfl_loss  Instances       Size\n",
            "        1/1         0G     0.8837      1.383     0.5563      0.941        444        640: 100%|██████████| 338/338 [54:41<00:00,  9.71s/it]\n",
            "                 Class     Images  Instances      Box(P          R      mAP50  mAP50-95)     Mask(P          R      mAP50  mAP50-95): 100%|██████████| 42/42 [09:31<00:00, 13.61s/it]\n",
            "                   all        670      28776      0.913      0.885      0.946      0.761      0.914      0.883      0.939      0.669\n",
            "\n",
            "1 epochs completed in 1.073 hours.\n",
            "Optimizer stripped from runs/segment/train4/weights/last.pt, 6.8MB\n",
            "Optimizer stripped from runs/segment/train4/weights/best.pt, 6.8MB\n",
            "\n",
            "Validating runs/segment/train4/weights/best.pt...\n",
            "Ultralytics YOLOv8.0.196 🚀 Python-3.10.12 torch-2.1.0+cu121 CPU (AMD EPYC 7B12)\n",
            "YOLOv8n-seg summary (fused): 195 layers, 3258259 parameters, 0 gradients, 12.0 GFLOPs\n",
            "                 Class     Images  Instances      Box(P          R      mAP50  mAP50-95)     Mask(P          R      mAP50  mAP50-95): 100%|██████████| 42/42 [03:45<00:00,  5.37s/it]\n",
            "                   all        670      28776      0.913      0.885      0.946      0.761      0.914      0.883      0.939      0.669\n",
            "Speed: 1.5ms preprocess, 224.4ms inference, 0.0ms loss, 1.9ms postprocess per image\n",
            "Results saved to \u001b[1mruns/segment/train4\u001b[0m\n"
          ]
        },
        {
          "output_type": "execute_result",
          "data": {
            "text/plain": [
              "ultralytics.utils.metrics.SegmentMetrics object with attributes:\n",
              "\n",
              "ap_class_index: array([0])\n",
              "box: ultralytics.utils.metrics.Metric object\n",
              "confusion_matrix: <ultralytics.utils.metrics.ConfusionMatrix object at 0x7c115a3b3340>\n",
              "fitness: 1.4754944852845844\n",
              "keys: ['metrics/precision(B)', 'metrics/recall(B)', 'metrics/mAP50(B)', 'metrics/mAP50-95(B)', 'metrics/precision(M)', 'metrics/recall(M)', 'metrics/mAP50(M)', 'metrics/mAP50-95(M)']\n",
              "maps: array([       1.43])\n",
              "names: {0: 'wheat'}\n",
              "plot: True\n",
              "results_dict: {'metrics/precision(B)': 0.9133401176680178, 'metrics/recall(B)': 0.8852515985543509, 'metrics/mAP50(B)': 0.9459768799412506, 'metrics/mAP50-95(B)': 0.7610222890872328, 'metrics/precision(M)': 0.9135163620820566, 'metrics/recall(M)': 0.8828095785150515, 'metrics/mAP50(M)': 0.9389433233717768, 'metrics/mAP50-95(M)': 0.6689804497497468, 'fitness': 1.4754944852845844}\n",
              "save_dir: PosixPath('runs/segment/train4')\n",
              "seg: ultralytics.utils.metrics.Metric object\n",
              "speed: {'preprocess': 1.46384345951365, 'inference': 224.4299305019094, 'loss': 0.00019642844128964552, 'postprocess': 1.896443651683295}"
            ]
          },
          "metadata": {},
          "execution_count": 6
        }
      ]
    },
    {
      "cell_type": "markdown",
      "source": [
        "# Test Images Prediction"
      ],
      "metadata": {
        "id": "gKW3we8QFgDY"
      }
    },
    {
      "cell_type": "code",
      "source": [
        "#Predictions\n",
        "!yolo task=segment mode=predict model=runs/segment/train/weights/best.pt source=\"/content/drive/MyDrive/Wheat head Segmentation Project/test-project#3\""
      ],
      "metadata": {
        "colab": {
          "base_uri": "https://localhost:8080/"
        },
        "id": "h9Sc4sml36gY",
        "outputId": "e5fdada2-401f-4de1-c3fb-323aa2269d9b"
      },
      "execution_count": null,
      "outputs": [
        {
          "output_type": "stream",
          "name": "stdout",
          "text": [
            "Ultralytics YOLOv8.0.196 🚀 Python-3.10.12 torch-2.1.0+cu121 CPU (AMD EPYC 7B12)\n",
            "YOLOv8n-seg summary (fused): 195 layers, 3258259 parameters, 0 gradients, 12.0 GFLOPs\n",
            "\n",
            "image 1/10 /content/drive/MyDrive/Wheat head Segmentation Project/test-project#3/2fd875eaa.jpg: 640x640 33 wheats, 262.4ms\n",
            "image 2/10 /content/drive/MyDrive/Wheat head Segmentation Project/test-project#3/348a992bb.jpg: 640x640 35 wheats, 195.0ms\n",
            "image 3/10 /content/drive/MyDrive/Wheat head Segmentation Project/test-project#3/51b3e36ab.jpg: 640x640 26 wheats, 207.1ms\n",
            "image 4/10 /content/drive/MyDrive/Wheat head Segmentation Project/test-project#3/51f1be19e.jpg: 640x640 18 wheats, 209.3ms\n",
            "image 5/10 /content/drive/MyDrive/Wheat head Segmentation Project/test-project#3/53f253011.jpg: 640x640 28 wheats, 187.2ms\n",
            "image 6/10 /content/drive/MyDrive/Wheat head Segmentation Project/test-project#3/796707dd7.jpg: 640x640 18 wheats, 194.4ms\n",
            "image 7/10 /content/drive/MyDrive/Wheat head Segmentation Project/test-project#3/aac893a91.jpg: 640x640 20 wheats, 198.3ms\n",
            "image 8/10 /content/drive/MyDrive/Wheat head Segmentation Project/test-project#3/cb8d261a3.jpg: 640x640 24 wheats, 259.6ms\n",
            "image 9/10 /content/drive/MyDrive/Wheat head Segmentation Project/test-project#3/cc3532ff6.jpg: 640x640 26 wheats, 259.1ms\n",
            "image 10/10 /content/drive/MyDrive/Wheat head Segmentation Project/test-project#3/f5a1f0358.jpg: 640x640 29 wheats, 195.5ms\n",
            "Speed: 3.3ms preprocess, 216.8ms inference, 75.7ms postprocess per image at shape (1, 3, 640, 640)\n",
            "Results saved to \u001b[1mruns/segment/predict\u001b[0m\n",
            "💡 Learn more at https://docs.ultralytics.com/modes/predict\n"
          ]
        }
      ]
    },
    {
      "cell_type": "markdown",
      "source": [
        "#Convert best model from pt to onnx"
      ],
      "metadata": {
        "id": "a4wVNyBdEZSf"
      }
    },
    {
      "cell_type": "code",
      "source": [
        "model = YOLO(\"/content/drive/MyDrive/Wheat head Segmentation Project/Yolo8/YOLOv8n-seg/runs/segment/train3/weights/best.pt\")\n",
        "results = model.predict(source=\"/content/drive/MyDrive/Wheat head Segmentation Project/test-project#3/2fd875eaa.jpg\")[0]\n",
        "\n",
        "model.export(format=\"onnx\",imgsz=[640,640], opset=12)"
      ],
      "metadata": {
        "id": "mq2VKNuBEj2n"
      },
      "execution_count": null,
      "outputs": []
    },
    {
      "cell_type": "markdown",
      "source": [
        "#Inferece using onnx model"
      ],
      "metadata": {
        "id": "pP4LqkH8EnUC"
      }
    },
    {
      "cell_type": "code",
      "source": [
        "from ultralytics import YOLO\n",
        "import cv2\n",
        "import numpy as np\n",
        "\n",
        "model_path = '/content/drive/MyDrive/Result/Yolo/Yolov8n/best.onnx'\n",
        "image_path = '/content/drive/MyDrive/Wheat head Segmentation Project/test-project#3/2fd875eaa.jpg'\n",
        "\n",
        "img = cv2.imread(image_path)\n",
        "H, W, _ = img.shape\n",
        "\n",
        "model = YOLO(model_path, task='segment')\n",
        "\n",
        "results = model(img)\n",
        "combined_mask = np.zeros((H, W), dtype=np.uint8)\n",
        "polygons = []\n",
        "bounding_boxes = []\n",
        "\n",
        "for result in results:\n",
        "    for j, mask in enumerate(result.masks.data):\n",
        "        mask = mask.cpu().numpy() * 255\n",
        "        mask = cv2.resize(mask, (W, H))\n",
        "\n",
        "        _, binary_mask = cv2.threshold(mask, 128, 255, cv2.THRESH_BINARY)\n",
        "        binary_mask = binary_mask.astype(np.uint8)\n",
        "        combined_mask = np.maximum(combined_mask, binary_mask)\n",
        "        contours, hierarchy = cv2.findContours(binary_mask, cv2.RETR_TREE, cv2.CHAIN_APPROX_SIMPLE)\n",
        "        for contour in contours:\n",
        "            if cv2.contourArea(contour) > 0.5:\n",
        "                epsilon = 0.02 * cv2.arcLength(contour, True)\n",
        "                polygon = cv2.approxPolyDP(contour, epsilon, True)\n",
        "                polygons.append(polygon)\n",
        "                x, y, w, h = cv2.boundingRect(contour)\n",
        "                bounding_boxes.append((x, y, x + w, y + h))\n",
        "\n",
        "result_image = img.copy()\n",
        "red_color =   (0, 255, 0)\n",
        "label_color = (0, 0, 255)\n",
        "thickness = 2\n",
        "\n",
        "for box in bounding_boxes:\n",
        "    x1, y1, x2, y2 = box\n",
        "    cv2.rectangle(result_image, (x1, y1), (x2, y2), red_color, thickness)\n",
        "    cv2.putText(result_image, 'Wheat', (x1, y1 - 5), cv2.FONT_HERSHEY_SIMPLEX, 0.5, label_color, thickness)\n",
        "\n",
        "# Create a blank mask image\n",
        "mask_image = np.zeros((H, W), dtype=np.uint8)\n",
        "\n",
        "for polygon in polygons:\n",
        "    cv2.drawContours(mask_image, [polygon], -1, 255, thickness=cv2.FILLED)\n",
        "\n",
        "# Combine the original image with the bounding boxes and the mask\n",
        "result_image = cv2.addWeighted(result_image, 0.7, cv2.cvtColor(mask_image, cv2.COLOR_GRAY2BGR), 0.3, 0)\n",
        "\n",
        "cv2.imwrite('./Result.png', result_image)"
      ],
      "metadata": {
        "id": "Wr8o0cXeEywO"
      },
      "execution_count": null,
      "outputs": []
    }
  ]
}